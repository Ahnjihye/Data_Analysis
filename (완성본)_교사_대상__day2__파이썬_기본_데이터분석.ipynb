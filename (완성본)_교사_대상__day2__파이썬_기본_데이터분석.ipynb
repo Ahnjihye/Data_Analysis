{
  "nbformat": 4,
  "nbformat_minor": 0,
  "metadata": {
    "colab": {
      "name": "(완성본) 교사 대상_ day2 _파이썬 기본_데이터분석",
      "provenance": [],
      "collapsed_sections": [],
      "authorship_tag": "ABX9TyPIxPUS9ek9JD3+9qy1hjnH",
      "include_colab_link": true
    },
    "kernelspec": {
      "name": "python3",
      "display_name": "Python 3"
    }
  },
  "cells": [
    {
      "cell_type": "markdown",
      "metadata": {
        "id": "view-in-github",
        "colab_type": "text"
      },
      "source": [
        "<a href=\"https://colab.research.google.com/github/Ahnjihye/Data_Analysis-/blob/master/(%EC%99%84%EC%84%B1%EB%B3%B8)_%EA%B5%90%EC%82%AC_%EB%8C%80%EC%83%81__day2__%ED%8C%8C%EC%9D%B4%EC%8D%AC_%EA%B8%B0%EB%B3%B8_%EB%8D%B0%EC%9D%B4%ED%84%B0%EB%B6%84%EC%84%9D.ipynb\" target=\"_parent\"><img src=\"https://colab.research.google.com/assets/colab-badge.svg\" alt=\"Open In Colab\"/></a>"
      ]
    },
    {
      "cell_type": "markdown",
      "metadata": {
        "id": "UCdFsLZvKa_C"
      },
      "source": [
        "# 8. 반복문\n",
        "<img src = 'https://github.com/Ahnjihye/allinone_AI/blob/images/4_%EB%B0%98%EB%B3%B5%EB%AC%B8.png?raw=true' width=500>\n",
        "\n"
      ]
    },
    {
      "cell_type": "code",
      "metadata": {
        "id": "IQtiqCfit48u",
        "colab": {
          "base_uri": "https://localhost:8080/",
          "height": 101
        },
        "outputId": "177c5812-f5b2-4ff0-ca0d-b7b85f70bff0"
      },
      "source": [
        "for a in [1,2,3,4,5] : \n",
        "    print(a, '안녕하세요!')"
      ],
      "execution_count": null,
      "outputs": [
        {
          "output_type": "stream",
          "text": [
            "1 안녕하세요!\n",
            "2 안녕하세요!\n",
            "3 안녕하세요!\n",
            "4 안녕하세요!\n",
            "5 안녕하세요!\n"
          ],
          "name": "stdout"
        }
      ]
    },
    {
      "cell_type": "markdown",
      "metadata": {
        "id": "oEfcTfzDFlqS"
      },
      "source": [
        "<img src ='https://github.com/Ahnjihye/allinone_AI/blob/images/5_%EB%B0%98%EB%B3%B5%EB%AC%B8%20%EB%8F%99%EC%9E%91%EA%B5%AC%EC%A1%B0.png?raw=true' width=500>"
      ]
    },
    {
      "cell_type": "markdown",
      "metadata": {
        "id": "FAq15VaRk9Ai"
      },
      "source": [
        "다음 spend의 모든 원소를 차례대로 출력하시오 \n",
        "\n",
        "\n",
        "```\n",
        "spend = [43, 12, 65, 67, 23, 12]\n",
        "```\n",
        "\n"
      ]
    },
    {
      "cell_type": "code",
      "metadata": {
        "id": "F2EVpvIMt4_R",
        "colab": {
          "base_uri": "https://localhost:8080/"
        },
        "outputId": "024706ad-1ae4-4d67-9415-25aeb14d563d"
      },
      "source": [
        "spend = [43, 12, 65, 67, 23, 12]\n",
        "\n",
        "for s in spend : \n",
        "    print('지출은', s)"
      ],
      "execution_count": null,
      "outputs": [
        {
          "output_type": "stream",
          "text": [
            "지출은 43\n",
            "지출은 12\n",
            "지출은 65\n",
            "지출은 67\n",
            "지출은 23\n",
            "지출은 12\n"
          ],
          "name": "stdout"
        }
      ]
    },
    {
      "cell_type": "markdown",
      "metadata": {
        "id": "G-bRbKPmU47N"
      },
      "source": [
        "### 리스트와 반복문, 조건문"
      ]
    },
    {
      "cell_type": "code",
      "metadata": {
        "id": "w8oyLMGlpklS",
        "colab": {
          "base_uri": "https://localhost:8080/"
        },
        "outputId": "88f5887d-2f87-44c6-ee1f-b1c0e07dbf91"
      },
      "source": [
        "# 50이상 쓴 금액을 출력하시오\n",
        "for s in spend : \n",
        "    if s >= 50 : \n",
        "        print(s,'만원', spend.index(s),'월')"
      ],
      "execution_count": null,
      "outputs": [
        {
          "output_type": "stream",
          "text": [
            "65 만원 2 월\n",
            "67 만원 3 월\n"
          ],
          "name": "stdout"
        }
      ]
    },
    {
      "cell_type": "markdown",
      "metadata": {
        "id": "qRSeABPrINGK"
      },
      "source": [
        "### range(시작숫자, 종료숫자)\r\n",
        "\r\n",
        "연속된 숫자를 표현하는 range()"
      ]
    },
    {
      "cell_type": "code",
      "metadata": {
        "id": "XP9lM2GHt5B0",
        "colab": {
          "base_uri": "https://localhost:8080/"
        },
        "outputId": "1ebb6886-2a64-42b8-e238-c3a716155974"
      },
      "source": [
        "# 인덱스를 활용하고 싶을 때 range()\n",
        "for i in range(0,6) : \n",
        "    print(i,'월 지출은', spend[i])"
      ],
      "execution_count": null,
      "outputs": [
        {
          "output_type": "stream",
          "text": [
            "0 월 지출은 25\n",
            "1 월 지출은 36\n",
            "2 월 지출은 8\n",
            "3 월 지출은 63\n",
            "4 월 지출은 12.0\n",
            "5 월 지출은 56\n"
          ],
          "name": "stdout"
        }
      ]
    },
    {
      "cell_type": "code",
      "metadata": {
        "colab": {
          "base_uri": "https://localhost:8080/"
        },
        "id": "draOPFNGIkAr",
        "outputId": "12517fce-b8ab-4094-9bfa-c6bc72ebd051"
      },
      "source": [
        "# 인덱스는 0부터 시작\r\n",
        "for i in range(0,6) : \r\n",
        "    print(i+1,'월 지출은', spend[i])"
      ],
      "execution_count": null,
      "outputs": [
        {
          "output_type": "stream",
          "text": [
            "1 월 지출은 25\n",
            "2 월 지출은 36\n",
            "3 월 지출은 8\n",
            "4 월 지출은 63\n",
            "5 월 지출은 12.0\n",
            "6 월 지출은 56\n"
          ],
          "name": "stdout"
        }
      ]
    },
    {
      "cell_type": "code",
      "metadata": {
        "id": "dx99LE7Xt5EO",
        "colab": {
          "base_uri": "https://localhost:8080/"
        },
        "outputId": "8dbdc886-767b-41b1-90b4-e27497eac2cb"
      },
      "source": [
        "# len() 활용하기\n",
        "for i in range(0,len(spend)) : \n",
        "    print(i+1,'월 지출은', spend[i])"
      ],
      "execution_count": null,
      "outputs": [
        {
          "output_type": "stream",
          "text": [
            "1 월 지출은 25\n",
            "2 월 지출은 36\n",
            "3 월 지출은 8\n",
            "4 월 지출은 63\n",
            "5 월 지출은 12.0\n",
            "6 월 지출은 56\n"
          ],
          "name": "stdout"
        }
      ]
    },
    {
      "cell_type": "code",
      "metadata": {
        "id": "YBNqt2c-t5Gk",
        "colab": {
          "base_uri": "https://localhost:8080/"
        },
        "outputId": "1ae92609-4e3f-443c-a0c1-13aeb1d0b0aa"
      },
      "source": [
        "# range()가 0부터 시작하면 생략 가능\n",
        "for i in range(len(spend)) : \n",
        "    print(i+1,'월 지출은', spend[i])"
      ],
      "execution_count": null,
      "outputs": [
        {
          "output_type": "stream",
          "text": [
            "1 월 지출은 25\n",
            "2 월 지출은 36\n",
            "3 월 지출은 8\n",
            "4 월 지출은 63\n",
            "5 월 지출은 12.0\n",
            "6 월 지출은 56\n"
          ],
          "name": "stdout"
        }
      ]
    },
    {
      "cell_type": "markdown",
      "metadata": {
        "id": "yKBftUkFI4u2"
      },
      "source": [
        "spend에서 50이상 쓴 달을 출력하시오, 단 range를 사용하시오"
      ]
    },
    {
      "cell_type": "code",
      "metadata": {
        "colab": {
          "base_uri": "https://localhost:8080/"
        },
        "id": "cxMjVzt0Ie79",
        "outputId": "824f5798-3701-4e2a-85c7-b2b9ad3e9fc9"
      },
      "source": [
        "# 50이상 쓴 달을 출력하시오\n",
        "for i in range(len(spend)) : \n",
        "    if spend[i] >= 50 : \n",
        "        print(i+1,'월 ',spend[i])"
      ],
      "execution_count": null,
      "outputs": [
        {
          "output_type": "stream",
          "text": [
            "4 월  63\n",
            "6 월  56\n"
          ],
          "name": "stdout"
        }
      ]
    },
    {
      "cell_type": "markdown",
      "metadata": {
        "id": "Mliij-AiZr4_"
      },
      "source": [
        "# 9. 이차원 리스트\n",
        "\n",
        "<img src ='https://github.com/Ahnjihye/allinone_AI/blob/images/14_%EC%9D%B4%EC%B0%A8%EC%9B%90%20%EB%A6%AC%EC%8A%A4%ED%8A%B8.png?raw=true' width = 700>"
      ]
    },
    {
      "cell_type": "code",
      "metadata": {
        "colab": {
          "base_uri": "https://localhost:8080/",
          "height": 36
        },
        "id": "eyn2kEQeMfqE",
        "outputId": "0da6153e-f319-4bbb-a6e8-c1af9d991b9b"
      },
      "source": [
        "abc = [[1,2,3], [4,5,6], [7,8,9]]\n",
        "abc"
      ],
      "execution_count": null,
      "outputs": [
        {
          "output_type": "execute_result",
          "data": {
            "text/plain": [
              "[[1, 2, 3], [4, 5, 6], [7, 8, 9]]"
            ]
          },
          "metadata": {
            "tags": []
          },
          "execution_count": 1
        }
      ]
    },
    {
      "cell_type": "code",
      "metadata": {
        "colab": {
          "base_uri": "https://localhost:8080/",
          "height": 36
        },
        "id": "ekoX7rEMMfqK",
        "outputId": "1041c3f8-dbe3-4e3c-fd91-725a2363224a"
      },
      "source": [
        "abc[0]"
      ],
      "execution_count": null,
      "outputs": [
        {
          "output_type": "execute_result",
          "data": {
            "text/plain": [
              "[1, 2, 3]"
            ]
          },
          "metadata": {
            "tags": []
          },
          "execution_count": 2
        }
      ]
    },
    {
      "cell_type": "code",
      "metadata": {
        "colab": {
          "base_uri": "https://localhost:8080/",
          "height": 36
        },
        "id": "cLHKenaTMfqL",
        "outputId": "33059a7d-e53a-4a39-e2cd-8d66b698b836"
      },
      "source": [
        "abc[1]"
      ],
      "execution_count": null,
      "outputs": [
        {
          "output_type": "execute_result",
          "data": {
            "text/plain": [
              "[4, 5, 6]"
            ]
          },
          "metadata": {
            "tags": []
          },
          "execution_count": 3
        }
      ]
    },
    {
      "cell_type": "code",
      "metadata": {
        "colab": {
          "base_uri": "https://localhost:8080/",
          "height": 36
        },
        "id": "53nZXQThMfqM",
        "outputId": "6a222a2c-d996-4d6e-b08a-f4944614df4b"
      },
      "source": [
        "abc[-1]"
      ],
      "execution_count": null,
      "outputs": [
        {
          "output_type": "execute_result",
          "data": {
            "text/plain": [
              "[7, 8, 9]"
            ]
          },
          "metadata": {
            "tags": []
          },
          "execution_count": 4
        }
      ]
    },
    {
      "cell_type": "markdown",
      "metadata": {
        "id": "mWKj1wiAMfqO"
      },
      "source": [
        "### 이차원 리스트의 인덱스\n",
        "\n",
        "<img src = 'https://github.com/Ahnjihye/allinone_AI/blob/images/15_%EC%9D%B4%EC%B0%A8%EC%9B%90%20%EB%A6%AC%EC%8A%A4%ED%8A%B8%20%EC%9D%B8%EB%8D%B1%EC%8A%A4.png?raw=true' width = 700>"
      ]
    },
    {
      "cell_type": "code",
      "metadata": {
        "colab": {
          "base_uri": "https://localhost:8080/",
          "height": 36
        },
        "id": "-0JLvjWgMfqP",
        "outputId": "3d5062e3-03c0-4ea8-936e-cb7e026df9ad"
      },
      "source": [
        "# 1 출력하기\n",
        "abc[0][0]"
      ],
      "execution_count": null,
      "outputs": [
        {
          "output_type": "execute_result",
          "data": {
            "text/plain": [
              "1"
            ]
          },
          "metadata": {
            "tags": []
          },
          "execution_count": 5
        }
      ]
    },
    {
      "cell_type": "markdown",
      "metadata": {
        "id": "-bcfTuieldf0"
      },
      "source": [
        "이차원 리스트 abd에서 인덱스를 활용해 다음 숫자를 출력하시오"
      ]
    },
    {
      "cell_type": "code",
      "metadata": {
        "colab": {
          "base_uri": "https://localhost:8080/",
          "height": 36
        },
        "id": "ybwmC8McMfqR",
        "outputId": "999afc4b-7464-4698-a6a8-fd8ebb6b44e7"
      },
      "source": [
        "# 6 출력하기\n",
        "abc[1][2]"
      ],
      "execution_count": null,
      "outputs": [
        {
          "output_type": "execute_result",
          "data": {
            "text/plain": [
              "6"
            ]
          },
          "metadata": {
            "tags": []
          },
          "execution_count": 6
        }
      ]
    },
    {
      "cell_type": "code",
      "metadata": {
        "colab": {
          "base_uri": "https://localhost:8080/",
          "height": 36
        },
        "id": "h7y-g7pzMfqS",
        "outputId": "53b3e1ad-e8e6-4e44-abb0-40f3901716c5"
      },
      "source": [
        "# 8 출력하기\n",
        "abc[2][1]"
      ],
      "execution_count": null,
      "outputs": [
        {
          "output_type": "execute_result",
          "data": {
            "text/plain": [
              "8"
            ]
          },
          "metadata": {
            "tags": []
          },
          "execution_count": 7
        }
      ]
    },
    {
      "cell_type": "markdown",
      "metadata": {
        "id": "2YUUytTsftU5"
      },
      "source": [
        "### 반복문과 이차원 리스트"
      ]
    },
    {
      "cell_type": "code",
      "metadata": {
        "colab": {
          "base_uri": "https://localhost:8080/",
          "height": 73
        },
        "id": "q1FP52BvMfqU",
        "outputId": "a8696087-3f30-4a86-8db3-1ebdfa5661de"
      },
      "source": [
        "for row in abc : \n",
        "    print(row)"
      ],
      "execution_count": null,
      "outputs": [
        {
          "output_type": "stream",
          "text": [
            "[1, 2, 3]\n",
            "[4, 5, 6]\n",
            "[7, 8, 9]\n"
          ],
          "name": "stdout"
        }
      ]
    },
    {
      "cell_type": "markdown",
      "metadata": {
        "id": "ZslBNVQ4MfqV"
      },
      "source": [
        "> 이차원리스트 반복 원리\n",
        "\n",
        "<img src = 'https://github.com/Ahnjihye/allinone_AI/blob/images/16_%EC%9D%B4%EC%B0%A8%EC%9B%90%20%EB%A6%AC%EC%8A%A4%ED%8A%B8%20%EB%B0%98%EB%B3%B5%EA%B5%AC%EC%A1%B0.png?raw=true' width=800>"
      ]
    },
    {
      "cell_type": "code",
      "metadata": {
        "colab": {
          "base_uri": "https://localhost:8080/",
          "height": 73
        },
        "id": "4t61OoQUMfqV",
        "outputId": "17ea743c-c13d-4ff6-a887-591f192c9ac5"
      },
      "source": [
        "# 모든 줄의 첫번째 데이터만 출력\n",
        "for row in abc : \n",
        "    print(row[0])"
      ],
      "execution_count": null,
      "outputs": [
        {
          "output_type": "stream",
          "text": [
            "1\n",
            "4\n",
            "7\n"
          ],
          "name": "stdout"
        }
      ]
    },
    {
      "cell_type": "code",
      "metadata": {
        "colab": {
          "base_uri": "https://localhost:8080/",
          "height": 73
        },
        "id": "IvQlLOGhMfqW",
        "outputId": "461b8b6a-bdac-4385-847c-2e82003a767e"
      },
      "source": [
        "# 모든 줄의 마지막 데이터(세번째 열)만 출력\n",
        "for row in abc : \n",
        "    print(row[-1])"
      ],
      "execution_count": null,
      "outputs": [
        {
          "output_type": "stream",
          "text": [
            "3\n",
            "6\n",
            "9\n"
          ],
          "name": "stdout"
        }
      ]
    },
    {
      "cell_type": "markdown",
      "metadata": {
        "id": "gKl6ITBVf4dN"
      },
      "source": [
        "# 10. 올림픽 데이터 "
      ]
    },
    {
      "cell_type": "markdown",
      "metadata": {
        "id": "bIBp6iFLMfqY"
      },
      "source": [
        "<img src= 'https://github.com/Ahnjihye/allinone_AI/blob/images/17_%EC%98%AC%EB%A6%BC%ED%94%BD.png?raw=true' width=500>"
      ]
    },
    {
      "cell_type": "markdown",
      "metadata": {
        "id": "XEF7EOlBLJUl"
      },
      "source": [
        "\r\n",
        "\r\n",
        "```\r\n",
        "data =[\r\n",
        "          [1,'미국',46,37,38,121],\r\n",
        "          [2,'영국',27,23,17,67],\r\n",
        "          [3,'중국',26,18,26,70],\r\n",
        "          [4,'러시아',19,18,19,56],\r\n",
        "          [5,'독일',17,10,15,42],\r\n",
        "          [6,'일본',12,8,21,41],\r\n",
        "          [7,'프랑스',10,18,14,42],\r\n",
        "          [8,'대한민국',9,3,9,21] \r\n",
        "        ]\r\n",
        "```\r\n",
        "\r\n"
      ]
    },
    {
      "cell_type": "code",
      "metadata": {
        "id": "0VrPyd2vMfqZ"
      },
      "source": [
        "data =[\n",
        "          [1,'미국',46,37,38,121],\n",
        "          [2,'영국',27,23,17,67],\n",
        "          [3,'중국',26,18,26,70],\n",
        "          [4,'러시아',19,18,19,56],\n",
        "          [5,'독일',17,10,15,42],\n",
        "          [6,'일본',12,8,21,41],\n",
        "          [7,'프랑스',10,18,14,42],\n",
        "          [8,'대한민국',9,3,9,21] \n",
        "        ]"
      ],
      "execution_count": 11,
      "outputs": []
    },
    {
      "cell_type": "code",
      "metadata": {
        "colab": {
          "base_uri": "https://localhost:8080/"
        },
        "id": "G7IrajJ1Mfqa",
        "outputId": "3a369ef6-12df-4a91-e8e9-c8f0ac68aaa0"
      },
      "source": [
        "# 순위권에 든 모든 국가를 출력하시오\n",
        "for row in data :\n",
        "    print(row[1])"
      ],
      "execution_count": 2,
      "outputs": [
        {
          "output_type": "stream",
          "text": [
            "미국\n",
            "영국\n",
            "중국\n",
            "러시아\n",
            "독일\n",
            "일본\n",
            "프랑스\n",
            "대한민국\n"
          ],
          "name": "stdout"
        }
      ]
    },
    {
      "cell_type": "code",
      "metadata": {
        "colab": {
          "base_uri": "https://localhost:8080/"
        },
        "id": "Eu7RUnssMfqb",
        "outputId": "5b0826d1-6bf5-4963-b400-5e07a4e01f2d"
      },
      "source": [
        "# 금메달보다 은메달 개수가 많은 나라를 출력하시오\n",
        "for row in data : \n",
        "    if row[2] < row[3] : \n",
        "        print(row[1])"
      ],
      "execution_count": 3,
      "outputs": [
        {
          "output_type": "stream",
          "text": [
            "프랑스\n"
          ],
          "name": "stdout"
        }
      ]
    },
    {
      "cell_type": "code",
      "metadata": {
        "colab": {
          "base_uri": "https://localhost:8080/"
        },
        "id": "1EbMZLoZMfqc",
        "outputId": "46a83ef1-4a03-4e28-9866-64d23c91b0b2"
      },
      "source": [
        "# 금메달보다 동메달 개수가 많은 나라를 출력하시오\n",
        "for row in data : \n",
        "    if row[2] < row[4] : \n",
        "        print(row[1])"
      ],
      "execution_count": 4,
      "outputs": [
        {
          "output_type": "stream",
          "text": [
            "일본\n",
            "프랑스\n"
          ],
          "name": "stdout"
        }
      ]
    },
    {
      "cell_type": "code",
      "metadata": {
        "id": "LtY4aNsQMfqd"
      },
      "source": [
        "# 모든 나라의 금메달 합을 구하시오\n",
        "gold = 0\n",
        "\n",
        "for row in data : \n",
        "    gold += row[2]"
      ],
      "execution_count": 5,
      "outputs": []
    },
    {
      "cell_type": "code",
      "metadata": {
        "colab": {
          "base_uri": "https://localhost:8080/"
        },
        "id": "S07712BhMfqd",
        "outputId": "43d48212-2561-430a-aa9c-22d79aef2994"
      },
      "source": [
        "gold"
      ],
      "execution_count": 6,
      "outputs": [
        {
          "output_type": "execute_result",
          "data": {
            "text/plain": [
              "166"
            ]
          },
          "metadata": {
            "tags": []
          },
          "execution_count": 6
        }
      ]
    },
    {
      "cell_type": "markdown",
      "metadata": {
        "id": "oYkEGYI7uF50"
      },
      "source": [
        "# 11. 그래프 그리기"
      ]
    },
    {
      "cell_type": "markdown",
      "metadata": {
        "id": "AES1v-5fNJG_"
      },
      "source": [
        "올림픽 데이터에서 국가명끼리, 금메달개수끼리, 은메달개수, 동메달개수끼리 리스트로 묶어보기 \r\n",
        "\r\n",
        "-> 반복문을 사용하기\r\n",
        "\r\n",
        "```\r\n",
        "['미국', '영국', '중국', '러시아', '독일', '일본', '프랑스', '대한민국']\r\n",
        "[46, 27, 26, 19, 17, 12, 10, 9]\r\n",
        "[37, 23, 18, 18, 10, 8, 18, 3]\r\n",
        "[38, 17, 26, 19, 15, 21, 14, 9]\r\n",
        "```\r\n",
        "\r\n"
      ]
    },
    {
      "cell_type": "code",
      "metadata": {
        "colab": {
          "base_uri": "https://localhost:8080/"
        },
        "id": "tXnHEG4bNIA7",
        "outputId": "0e453e68-a8ad-4adb-af64-1463aa2ddbd4"
      },
      "source": [
        "nation = []\r\n",
        "gold = []\r\n",
        "silver = []\r\n",
        "bronze = []\r\n",
        "\r\n",
        "for row in data : \r\n",
        "    nation.append(row[1])\r\n",
        "    gold.append(row[2])\r\n",
        "    silver.append(row[3])\r\n",
        "    bronze.append(row[4])\r\n",
        "\r\n",
        "print(nation)\r\n",
        "print(gold)\r\n",
        "print(silver)\r\n",
        "print(bronze)"
      ],
      "execution_count": 12,
      "outputs": [
        {
          "output_type": "stream",
          "text": [
            "['미국', '영국', '중국', '러시아', '독일', '일본', '프랑스', '대한민국']\n",
            "[46, 27, 26, 19, 17, 12, 10, 9]\n",
            "[37, 23, 18, 18, 10, 8, 18, 3]\n",
            "[38, 17, 26, 19, 15, 21, 14, 9]\n"
          ],
          "name": "stdout"
        }
      ]
    },
    {
      "cell_type": "code",
      "metadata": {
        "id": "biyG6qVSTUnF",
        "colab": {
          "base_uri": "https://localhost:8080/",
          "height": 283
        },
        "outputId": "9f333051-d1ce-4e65-e469-5c23a3704aa1"
      },
      "source": [
        "import matplotlib.pyplot as plt\n",
        "\n",
        "# 금메달 꺾은선그래프 그리기\n",
        "plt.plot(gold)"
      ],
      "execution_count": 13,
      "outputs": [
        {
          "output_type": "execute_result",
          "data": {
            "text/plain": [
              "[<matplotlib.lines.Line2D at 0x7f3935cc3c88>]"
            ]
          },
          "metadata": {
            "tags": []
          },
          "execution_count": 13
        },
        {
          "output_type": "display_data",
          "data": {
            "image/png": "[encoded data removed]",
            "text/plain": [
              "<Figure size 432x288 with 1 Axes>"
            ]
          },
          "metadata": {
            "tags": [],
            "needs_background": "light"
          }
        }
      ]
    },
    {
      "cell_type": "code",
      "metadata": {
        "id": "Vehi9X7WuGG2",
        "colab": {
          "base_uri": "https://localhost:8080/",
          "height": 265
        },
        "outputId": "d03e5e5e-f950-49d2-9b25-027cf827ae4f"
      },
      "source": [
        "plt.plot(gold)\n",
        "plt.show()"
      ],
      "execution_count": 14,
      "outputs": [
        {
          "output_type": "display_data",
          "data": {
            "image/png": "[encoded data removed]",
            "text/plain": [
              "<Figure size 432x288 with 1 Axes>"
            ]
          },
          "metadata": {
            "tags": [],
            "needs_background": "light"
          }
        }
      ]
    },
    {
      "cell_type": "code",
      "metadata": {
        "id": "xxcnexay1W15",
        "colab": {
          "base_uri": "https://localhost:8080/",
          "height": 1000
        },
        "outputId": "399b63d8-8e15-4e9c-bd0e-68b87102ddc1"
      },
      "source": [
        "# X축, y축\n",
        "plt.plot(nation, gold)\n",
        "plt.show()"
      ],
      "execution_count": 15,
      "outputs": [
        {
          "output_type": "stream",
          "text": [
            "/usr/local/lib/python3.6/dist-packages/matplotlib/backends/backend_agg.py:214: RuntimeWarning: Glyph 48120 missing from current font.\n",
            "  font.set_text(s, 0.0, flags=flags)\n",
            "/usr/local/lib/python3.6/dist-packages/matplotlib/backends/backend_agg.py:214: RuntimeWarning: Glyph 44397 missing from current font.\n",
            "  font.set_text(s, 0.0, flags=flags)\n",
            "/usr/local/lib/python3.6/dist-packages/matplotlib/backends/backend_agg.py:214: RuntimeWarning: Glyph 50689 missing from current font.\n",
            "  font.set_text(s, 0.0, flags=flags)\n",
            "/usr/local/lib/python3.6/dist-packages/matplotlib/backends/backend_agg.py:214: RuntimeWarning: Glyph 51473 missing from current font.\n",
            "  font.set_text(s, 0.0, flags=flags)\n",
            "/usr/local/lib/python3.6/dist-packages/matplotlib/backends/backend_agg.py:214: RuntimeWarning: Glyph 47084 missing from current font.\n",
            "  font.set_text(s, 0.0, flags=flags)\n",
            "/usr/local/lib/python3.6/dist-packages/matplotlib/backends/backend_agg.py:214: RuntimeWarning: Glyph 49884 missing from current font.\n",
            "  font.set_text(s, 0.0, flags=flags)\n",
            "/usr/local/lib/python3.6/dist-packages/matplotlib/backends/backend_agg.py:214: RuntimeWarning: Glyph 50500 missing from current font.\n",
            "  font.set_text(s, 0.0, flags=flags)\n",
            "/usr/local/lib/python3.6/dist-packages/matplotlib/backends/backend_agg.py:214: RuntimeWarning: Glyph 46021 missing from current font.\n",
            "  font.set_text(s, 0.0, flags=flags)\n",
            "/usr/local/lib/python3.6/dist-packages/matplotlib/backends/backend_agg.py:214: RuntimeWarning: Glyph 51068 missing from current font.\n",
            "  font.set_text(s, 0.0, flags=flags)\n",
            "/usr/local/lib/python3.6/dist-packages/matplotlib/backends/backend_agg.py:214: RuntimeWarning: Glyph 48376 missing from current font.\n",
            "  font.set_text(s, 0.0, flags=flags)\n",
            "/usr/local/lib/python3.6/dist-packages/matplotlib/backends/backend_agg.py:214: RuntimeWarning: Glyph 54532 missing from current font.\n",
            "  font.set_text(s, 0.0, flags=flags)\n",
            "/usr/local/lib/python3.6/dist-packages/matplotlib/backends/backend_agg.py:214: RuntimeWarning: Glyph 46993 missing from current font.\n",
            "  font.set_text(s, 0.0, flags=flags)\n",
            "/usr/local/lib/python3.6/dist-packages/matplotlib/backends/backend_agg.py:214: RuntimeWarning: Glyph 49828 missing from current font.\n",
            "  font.set_text(s, 0.0, flags=flags)\n",
            "/usr/local/lib/python3.6/dist-packages/matplotlib/backends/backend_agg.py:214: RuntimeWarning: Glyph 45824 missing from current font.\n",
            "  font.set_text(s, 0.0, flags=flags)\n",
            "/usr/local/lib/python3.6/dist-packages/matplotlib/backends/backend_agg.py:214: RuntimeWarning: Glyph 54620 missing from current font.\n",
            "  font.set_text(s, 0.0, flags=flags)\n",
            "/usr/local/lib/python3.6/dist-packages/matplotlib/backends/backend_agg.py:214: RuntimeWarning: Glyph 48124 missing from current font.\n",
            "  font.set_text(s, 0.0, flags=flags)\n",
            "/usr/local/lib/python3.6/dist-packages/matplotlib/backends/backend_agg.py:183: RuntimeWarning: Glyph 48120 missing from current font.\n",
            "  font.set_text(s, 0, flags=flags)\n",
            "/usr/local/lib/python3.6/dist-packages/matplotlib/backends/backend_agg.py:183: RuntimeWarning: Glyph 44397 missing from current font.\n",
            "  font.set_text(s, 0, flags=flags)\n",
            "/usr/local/lib/python3.6/dist-packages/matplotlib/backends/backend_agg.py:183: RuntimeWarning: Glyph 50689 missing from current font.\n",
            "  font.set_text(s, 0, flags=flags)\n",
            "/usr/local/lib/python3.6/dist-packages/matplotlib/backends/backend_agg.py:183: RuntimeWarning: Glyph 51473 missing from current font.\n",
            "  font.set_text(s, 0, flags=flags)\n",
            "/usr/local/lib/python3.6/dist-packages/matplotlib/backends/backend_agg.py:183: RuntimeWarning: Glyph 47084 missing from current font.\n",
            "  font.set_text(s, 0, flags=flags)\n",
            "/usr/local/lib/python3.6/dist-packages/matplotlib/backends/backend_agg.py:183: RuntimeWarning: Glyph 49884 missing from current font.\n",
            "  font.set_text(s, 0, flags=flags)\n",
            "/usr/local/lib/python3.6/dist-packages/matplotlib/backends/backend_agg.py:183: RuntimeWarning: Glyph 50500 missing from current font.\n",
            "  font.set_text(s, 0, flags=flags)\n",
            "/usr/local/lib/python3.6/dist-packages/matplotlib/backends/backend_agg.py:183: RuntimeWarning: Glyph 46021 missing from current font.\n",
            "  font.set_text(s, 0, flags=flags)\n",
            "/usr/local/lib/python3.6/dist-packages/matplotlib/backends/backend_agg.py:183: RuntimeWarning: Glyph 51068 missing from current font.\n",
            "  font.set_text(s, 0, flags=flags)\n",
            "/usr/local/lib/python3.6/dist-packages/matplotlib/backends/backend_agg.py:183: RuntimeWarning: Glyph 48376 missing from current font.\n",
            "  font.set_text(s, 0, flags=flags)\n",
            "/usr/local/lib/python3.6/dist-packages/matplotlib/backends/backend_agg.py:183: RuntimeWarning: Glyph 54532 missing from current font.\n",
            "  font.set_text(s, 0, flags=flags)\n",
            "/usr/local/lib/python3.6/dist-packages/matplotlib/backends/backend_agg.py:183: RuntimeWarning: Glyph 46993 missing from current font.\n",
            "  font.set_text(s, 0, flags=flags)\n",
            "/usr/local/lib/python3.6/dist-packages/matplotlib/backends/backend_agg.py:183: RuntimeWarning: Glyph 49828 missing from current font.\n",
            "  font.set_text(s, 0, flags=flags)\n",
            "/usr/local/lib/python3.6/dist-packages/matplotlib/backends/backend_agg.py:183: RuntimeWarning: Glyph 45824 missing from current font.\n",
            "  font.set_text(s, 0, flags=flags)\n",
            "/usr/local/lib/python3.6/dist-packages/matplotlib/backends/backend_agg.py:183: RuntimeWarning: Glyph 54620 missing from current font.\n",
            "  font.set_text(s, 0, flags=flags)\n",
            "/usr/local/lib/python3.6/dist-packages/matplotlib/backends/backend_agg.py:183: RuntimeWarning: Glyph 48124 missing from current font.\n",
            "  font.set_text(s, 0, flags=flags)\n"
          ],
          "name": "stderr"
        },
        {
          "output_type": "display_data",
          "data": {
            "image/png": "[encoded data removed]",
            "text/plain": [
              "<Figure size 432x288 with 1 Axes>"
            ]
          },
          "metadata": {
            "tags": [],
            "needs_background": "light"
          }
        }
      ]
    },
    {
      "cell_type": "markdown",
      "metadata": {
        "id": "VHFqV5rYOM_i"
      },
      "source": [
        "### 그래프에 한글 표현하기\r\n",
        "\r\n",
        "\r\n",
        "1. 다음 코드 실행\r\n",
        "```\r\n",
        "!sudo apt-get install -y fonts-nanum\r\n",
        "!sudo fc-cache -fv\r\n",
        "!rm ~/.cache/matplotlib -rf\r\n",
        "```\r\n",
        "2. 런타임 - 런타임 다시 시작\r\n",
        "3. 다음 코드로 나눔 글꼴 설정\r\n",
        "\r\n",
        "```\r\n",
        "plt.rc('font', NanumGothic) \r\n",
        "```\r\n",
        "\r\n",
        "\r\n"
      ]
    },
    {
      "cell_type": "code",
      "metadata": {
        "colab": {
          "base_uri": "https://localhost:8080/"
        },
        "id": "Bi9rwZvLOq1T",
        "outputId": "a8ee0c26-7687-4585-9f1b-4863063e59d6"
      },
      "source": [
        "!sudo apt-get install -y fonts-nanum\r\n",
        "!sudo fc-cache -fv\r\n",
        "!rm ~/.cache/matplotlib -rf"
      ],
      "execution_count": 16,
      "outputs": [
        {
          "output_type": "stream",
          "text": [
            "Reading package lists... Done\n",
            "Building dependency tree       \n",
            "Reading state information... Done\n",
            "fonts-nanum is already the newest version (20170925-1).\n",
            "0 upgraded, 0 newly installed, 0 to remove and 13 not upgraded.\n",
            "/usr/share/fonts: caching, new cache contents: 0 fonts, 1 dirs\n",
            "/usr/share/fonts/truetype: caching, new cache contents: 0 fonts, 3 dirs\n",
            "/usr/share/fonts/truetype/humor-sans: caching, new cache contents: 1 fonts, 0 dirs\n",
            "/usr/share/fonts/truetype/liberation: caching, new cache contents: 16 fonts, 0 dirs\n",
            "/usr/share/fonts/truetype/nanum: caching, new cache contents: 10 fonts, 0 dirs\n",
            "/usr/local/share/fonts: caching, new cache contents: 0 fonts, 0 dirs\n",
            "/root/.local/share/fonts: skipping, no such directory\n",
            "/root/.fonts: skipping, no such directory\n",
            "/var/cache/fontconfig: cleaning cache directory\n",
            "/root/.cache/fontconfig: not cleaning non-existent cache directory\n",
            "/root/.fontconfig: not cleaning non-existent cache directory\n",
            "fc-cache: succeeded\n"
          ],
          "name": "stdout"
        }
      ]
    },
    {
      "cell_type": "markdown",
      "metadata": {
        "id": "imYw7mhiPNQ-"
      },
      "source": [
        "\r\n",
        "런타임이 초기화되었으므로, 다음 코드를 다시 실행해주어야 함\r\n",
        "```\r\n",
        "import matplotlib.pyplot as plt\r\n",
        "\r\n",
        "data =[\r\n",
        "          [1,'미국',46,37,38,121],\r\n",
        "          [2,'영국',27,23,17,67],\r\n",
        "          [3,'중국',26,18,26,70],\r\n",
        "          [4,'러시아',19,18,19,56],\r\n",
        "          [5,'독일',17,10,15,42],\r\n",
        "          [6,'일본',12,8,21,41],\r\n",
        "          [7,'프랑스',10,18,14,42],\r\n",
        "          [8,'대한민국',9,3,9,21] \r\n",
        "        ]\r\n",
        "        \r\n",
        "nation = []\r\n",
        "gold = []\r\n",
        "silver = []\r\n",
        "bronze = []\r\n",
        "\r\n",
        "for row in data : \r\n",
        "    nation.append(row[1])\r\n",
        "    gold.append(row[2])\r\n",
        "    silver.append(row[3])\r\n",
        "    bronze.append(row[4])\r\n",
        "```\r\n",
        "\r\n",
        "다시 그려볼 그래프\r\n",
        "\r\n",
        "\r\n",
        "```\r\n",
        "# 폰트 추가\r\n",
        "plt.rc('font', family ='NanumGothic') \r\n",
        "plt.plot(nation, gold)\r\n",
        "plt.show()\r\n",
        "```\r\n",
        "\r\n",
        "\r\n"
      ]
    },
    {
      "cell_type": "code",
      "metadata": {
        "colab": {
          "base_uri": "https://localhost:8080/",
          "height": 265
        },
        "id": "_o3DLtpHO0B_",
        "outputId": "67131e61-785c-465c-f2b5-f5b825e56802"
      },
      "source": [
        "import matplotlib.pyplot as plt\r\n",
        " \r\n",
        "data =[\r\n",
        "          [1,'미국',46,37,38,121],\r\n",
        "          [2,'영국',27,23,17,67],\r\n",
        "          [3,'중국',26,18,26,70],\r\n",
        "          [4,'러시아',19,18,19,56],\r\n",
        "          [5,'독일',17,10,15,42],\r\n",
        "          [6,'일본',12,8,21,41],\r\n",
        "          [7,'프랑스',10,18,14,42],\r\n",
        "          [8,'대한민국',9,3,9,21] \r\n",
        "        ]\r\n",
        " \r\n",
        "nation = []\r\n",
        "gold = []\r\n",
        "silver = []\r\n",
        "bronze = []\r\n",
        "\r\n",
        "for row in data : \r\n",
        "    nation.append(row[1])\r\n",
        "    gold.append(row[2])\r\n",
        "    silver.append(row[3])\r\n",
        "    bronze.append(row[4])\r\n",
        "\r\n",
        "# 폰트 추가\r\n",
        "plt.rc('font', family ='NanumGothic') \r\n",
        "plt.plot(nation, gold)\r\n",
        "plt.show()"
      ],
      "execution_count": 6,
      "outputs": [
        {
          "output_type": "display_data",
          "data": {
            "image/png": "[encoded data removed]",
            "text/plain": [
              "<Figure size 432x288 with 1 Axes>"
            ]
          },
          "metadata": {
            "tags": [],
            "needs_background": "light"
          }
        }
      ]
    },
    {
      "cell_type": "code",
      "metadata": {
        "id": "GIpv8hFY1Zd3",
        "colab": {
          "base_uri": "https://localhost:8080/",
          "height": 280
        },
        "outputId": "1e1e9e1a-5e96-4081-e65b-e9e0aef3308a"
      },
      "source": [
        "# 그래프 제목 추가\n",
        "plt.title('나라별 금메달 개수')\n",
        "plt.plot(nation, gold)\n",
        "plt.show()"
      ],
      "execution_count": 7,
      "outputs": [
        {
          "output_type": "display_data",
          "data": {
            "image/png": "[encoded data removed]",
            "text/plain": [
              "<Figure size 432x288 with 1 Axes>"
            ]
          },
          "metadata": {
            "tags": [],
            "needs_background": "light"
          }
        }
      ]
    },
    {
      "cell_type": "code",
      "metadata": {
        "id": "X5oiodjF1W7N",
        "colab": {
          "base_uri": "https://localhost:8080/",
          "height": 280
        },
        "outputId": "7c40b098-e140-4bad-ac92-d7ec8d45bab5"
      },
      "source": [
        "plt.title('나라별 금메달 개수')\n",
        "# 색상 변경\n",
        "plt.plot(nation, gold, color = 'r')\n",
        "plt.show()"
      ],
      "execution_count": 8,
      "outputs": [
        {
          "output_type": "display_data",
          "data": {
            "image/png": "[encoded data removed]",
            "text/plain": [
              "<Figure size 432x288 with 1 Axes>"
            ]
          },
          "metadata": {
            "tags": [],
            "needs_background": "light"
          }
        }
      ]
    },
    {
      "cell_type": "markdown",
      "metadata": {
        "id": "i7uniz-93Olm"
      },
      "source": [
        "<img src = 'https://github.com/Ahnjihye/allinone_AI/blob/images/22_%EA%B7%B8%EB%9E%98%ED%94%84%20%EC%BB%AC%EB%9F%AC.png?raw=true' width = 500>"
      ]
    },
    {
      "cell_type": "code",
      "metadata": {
        "id": "svj84rbv3R4O",
        "colab": {
          "base_uri": "https://localhost:8080/",
          "height": 280
        },
        "outputId": "0387d232-9a43-4cba-9055-68fb48401e96"
      },
      "source": [
        "plt.title('2016 브라질 올림픽')\n",
        "# 범례 label\n",
        "plt.plot(nation, gold, color = 'r', label='금메달')\n",
        "# 범례를 화면에 나타내는 legend()\n",
        "plt.legend()\n",
        "plt.show()\n"
      ],
      "execution_count": 9,
      "outputs": [
        {
          "output_type": "display_data",
          "data": {
            "image/png": "[encoded data removed]",
            "text/plain": [
              "<Figure size 432x288 with 1 Axes>"
            ]
          },
          "metadata": {
            "tags": [],
            "needs_background": "light"
          }
        }
      ]
    },
    {
      "cell_type": "code",
      "metadata": {
        "colab": {
          "base_uri": "https://localhost:8080/",
          "height": 280
        },
        "id": "FqK9DGe5Q2Dr",
        "outputId": "05eb714e-4f2c-40cb-ab28-6011ce36c3d9"
      },
      "source": [
        "# 여러 개의 그래프 겹쳐 그리기\r\n",
        "plt.title('2016 브라질 올림픽')\r\n",
        "plt.plot(nation, gold, color = 'gold', label='금메달')\r\n",
        "plt.plot(nation, silver, color = 'silver', label='은메달')\r\n",
        "plt.plot(nation, bronze, color = 'brown', label='동메달')\r\n",
        "plt.legend()\r\n",
        "plt.show()"
      ],
      "execution_count": 10,
      "outputs": [
        {
          "output_type": "display_data",
          "data": {
            "image/png": "[encoded data removed]",
            "text/plain": [
              "<Figure size 432x288 with 1 Axes>"
            ]
          },
          "metadata": {
            "tags": [],
            "needs_background": "light"
          }
        }
      ]
    },
    {
      "cell_type": "markdown",
      "metadata": {
        "id": "eZjmElRi2y4T"
      },
      "source": [
        "### 그래프 그리는 포맷\n",
        "\n",
        "\n",
        "```\n",
        "import matplotlib.pyplot as plt\n",
        "\n",
        "plt.title('그래프 제목')\n",
        "plt.plot(x축 데이터, y축 데이터)\n",
        "plt.show()\n",
        "```\n",
        "\n",
        "그래프 명령어 plt.plot()의 추가옵션\n",
        "\n",
        "\n",
        "```\n",
        "color = '색상이름'             \n",
        "label = '범례내용'\n",
        "```\n",
        "\n",
        "기타 사용가능한 명령어\n",
        "\n",
        "\n",
        "```\n",
        "plt.figure(dpi=150)     # 그래프 해상도 설정 \n",
        "plt.legend()            # 범례 나타내기\n",
        "```\n",
        "\n",
        "\n",
        "\n",
        "\n",
        "\n"
      ]
    },
    {
      "cell_type": "markdown",
      "metadata": {
        "id": "RXK9-hoI5IQM"
      },
      "source": [
        "\n",
        "**그래프 유형별 명령어**\n",
        "```\n",
        "# 꺾은선그래프\n",
        "plt.plot([x축 리스트], [y축 리스트])\n",
        "\n",
        "# 막대그래프 세로\n",
        "plt.bar([x축 리스트], [y축 리스트])\n",
        "\n",
        "# 막대그래프 가로\n",
        "plt.barh([x축 리스트], [y축 리스트])\n",
        "\n",
        "# 히스토그램 \n",
        "plt.hist( [리스트], bins = 구간개수 )\n",
        "\n",
        "# 원 그래프\n",
        "plt.pie( [리스트], labels = [데이터 구간 이름])\n",
        "\n",
        "# 산점도\n",
        "plt.scatter([x축 리스트], [y축 리스트])\n",
        "```"
      ]
    },
    {
      "cell_type": "markdown",
      "metadata": {
        "id": "R032dHnvuLca"
      },
      "source": [
        "# 11. 파일 업로드 & 데이터 분석\n",
        "\n",
        "#### csv 파일이란? \n",
        "comma seperated values의 약자로\n",
        "콤마(,)로 분리된 파일"
      ]
    },
    {
      "cell_type": "markdown",
      "metadata": {
        "id": "JhqABCphyq_v"
      },
      "source": [
        "<img src='https://github.com/Ahnjihye/allinone_AI/blob/images/18_csv%ED%8C%8C%EC%9D%BC.png?raw=true' width=800>"
      ]
    },
    {
      "cell_type": "code",
      "metadata": {
        "id": "xMe9NjEmuO2o",
        "colab": {
          "resources": {
            "http://localhost:8080/nbextensions/google.colab/files.js": {
              "data": "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",
              "ok": true,
              "headers": [
                [
                  "content-type",
                  "application/javascript"
                ]
              ],
              "status": 200,
              "status_text": ""
            }
          },
          "base_uri": "https://localhost:8080/",
          "height": 76
        },
        "outputId": "086d47e0-9d4f-4b5b-d4a6-986627ec71e3"
      },
      "source": [
        "# 코랩에 파일 업로드하는 방법\n",
        " \n",
        "from google.colab import files\n",
        "uploaded = files.upload()"
      ],
      "execution_count": 14,
      "outputs": [
        {
          "output_type": "display_data",
          "data": {
            "text/html": [
              "\n",
              "     <input type=\"file\" id=\"files-23337816-5cf5-4ab3-9d15-757259422905\" name=\"files[]\" multiple disabled\n",
              "        style=\"border:none\" />\n",
              "     <output id=\"result-23337816-5cf5-4ab3-9d15-757259422905\">\n",
              "      Upload widget is only available when the cell has been executed in the\n",
              "      current browser session. Please rerun this cell to enable.\n",
              "      </output>\n",
              "      <script src=\"/nbextensions/google.colab/files.js\"></script> "
            ],
            "text/plain": [
              "<IPython.core.display.HTML object>"
            ]
          },
          "metadata": {
            "tags": []
          }
        },
        {
          "output_type": "stream",
          "text": [
            "Saving card.csv to card (1).csv\n"
          ],
          "name": "stdout"
        }
      ]
    },
    {
      "cell_type": "markdown",
      "metadata": {
        "id": "856yefHCuK2D"
      },
      "source": [
        "------\n",
        "\n",
        "1.   파일 open\n",
        "2.   파일 읽기 reader\n",
        "3.   파일 헤더 건너뛰기\n",
        "4.   파일을 리스트로 바꾸기\n",
        "\n",
        "\n",
        "\n",
        "```\n",
        "# csv 라이브러리 임포트\n",
        "import csv \n",
        "\n",
        "f = open('파일명.csv')       # 파일 오픈\n",
        "data = csv.reader(f)         # 파일 읽기 reader\n",
        "next(data)                   # 파일 헤더 건너뛰기 \n",
        "data = list(data)            # 파일 리스트로 바꾸기\n",
        "```\n",
        "\n"
      ]
    },
    {
      "cell_type": "code",
      "metadata": {
        "id": "--E-FxMCuRlC"
      },
      "source": [
        "import csv \n",
        " \n",
        "f = open('card.csv')       # 파일 오픈\n",
        "data = csv.reader(f)         # 파일 읽기 reader\n",
        "next(data)                   # 파일 헤더 건너뛰기 \n",
        "data = list(data)            # 파일 리스트로 바꾸기"
      ],
      "execution_count": 15,
      "outputs": []
    },
    {
      "cell_type": "code",
      "metadata": {
        "id": "q3t86Z5LuRm7",
        "colab": {
          "base_uri": "https://localhost:8080/"
        },
        "outputId": "2c5e07cf-ec71-42ae-a82e-b9d44d55c127"
      },
      "source": [
        "data[0]"
      ],
      "execution_count": 16,
      "outputs": [
        {
          "output_type": "execute_result",
          "data": {
            "text/plain": [
              "['2019-10-12 9:13',\n",
              " '1972753',\n",
              " '본',\n",
              " 'S&',\n",
              " '185',\n",
              " '네이버파이낸셜(주)',\n",
              " '546800',\n",
              " '일시불(A)',\n",
              " '부분취소']"
            ]
          },
          "metadata": {
            "tags": []
          },
          "execution_count": 16
        }
      ]
    },
    {
      "cell_type": "code",
      "metadata": {
        "id": "4bnAQFR9uRo7",
        "colab": {
          "base_uri": "https://localhost:8080/"
        },
        "outputId": "4f1f338e-c3e5-4538-f8a7-0564d83d4c2f"
      },
      "source": [
        "data[1]"
      ],
      "execution_count": 17,
      "outputs": [
        {
          "output_type": "execute_result",
          "data": {
            "text/plain": [
              "['2019-10-12 11:56',\n",
              " '3399357',\n",
              " '본',\n",
              " 'S&',\n",
              " '185',\n",
              " 'GS  샵',\n",
              " '60440',\n",
              " '일시불(A)',\n",
              " '전표매입']"
            ]
          },
          "metadata": {
            "tags": []
          },
          "execution_count": 17
        }
      ]
    },
    {
      "cell_type": "markdown",
      "metadata": {
        "id": "mCKJAnCsuO7z"
      },
      "source": [
        "# 12. 워밍업"
      ]
    },
    {
      "cell_type": "markdown",
      "metadata": {
        "id": "89v0MUZ4y0uJ"
      },
      "source": [
        "<img src ='https://github.com/Ahnjihye/allinone_AI/blob/images/19_%EB%8D%B0%EC%9D%B4%ED%84%B0%20%EA%B5%AC%EC%A1%B0.png?raw=true' width=600>"
      ]
    },
    {
      "cell_type": "code",
      "metadata": {
        "id": "0SSz-ZSvuRrV"
      },
      "source": [
        "# 카드이용일자 모두 출력하기\n",
        "for row in data : \n",
        "    print(row[0])"
      ],
      "execution_count": null,
      "outputs": []
    },
    {
      "cell_type": "code",
      "metadata": {
        "id": "RIz2XBOey6wh"
      },
      "source": [
        "# 카드 사용금액 모두 출력하기\n",
        "for row in data : \n",
        "    print(row[-3])"
      ],
      "execution_count": null,
      "outputs": []
    },
    {
      "cell_type": "markdown",
      "metadata": {
        "id": "RzWt9ggxy7Ap"
      },
      "source": [
        "<img src ='https://github.com/Ahnjihye/allinone_AI/blob/images/20_%EB%8D%B0%EC%9D%B4%ED%84%B0%EB%B6%84%EC%84%9D%20%EB%B0%98%EB%B3%B5%EB%AC%B8.png?raw=true' width=800>"
      ]
    },
    {
      "cell_type": "code",
      "metadata": {
        "id": "JdHc9hvCy6y7"
      },
      "source": [
        "# 카드 사용처와 금액 모두 출력하기\n",
        "for row in data : \n",
        "    print(row[5],'에서',row[6],'원 사용')"
      ],
      "execution_count": null,
      "outputs": []
    },
    {
      "cell_type": "code",
      "metadata": {
        "id": "NgwKIIVszjfN"
      },
      "source": [
        "# 카드 사용처와 금액 모두 출력하기\n",
        "for row in data : \n",
        "    store = row[5]\n",
        "    payment = row[6]\n",
        "    print(store,'에서',payment,'원 사용')"
      ],
      "execution_count": null,
      "outputs": []
    },
    {
      "cell_type": "markdown",
      "metadata": {
        "id": "1IpuG5Jvy7Vk"
      },
      "source": [
        "<img src = 'https://github.com/Ahnjihye/allinone_AI/blob/images/21_%EB%8D%B0%EC%9D%B4%ED%84%B0%EB%B6%84%EC%84%9D_%EB%B0%98%EB%B3%B5%EB%AC%B82.png?raw=true' width=800>"
      ]
    },
    {
      "cell_type": "code",
      "metadata": {
        "id": "XDbYFvliy61T",
        "colab": {
          "base_uri": "https://localhost:8080/",
          "height": 213
        },
        "outputId": "f4392b64-1112-414e-8ea5-b7f6b8e70aad"
      },
      "source": [
        "# 3개월간 사용한 총 금액은? ^_ㅠ??\n",
        "total = 0\n",
        "for row in data : \n",
        "    payment = row[6]\n",
        "    total += payment"
      ],
      "execution_count": null,
      "outputs": [
        {
          "output_type": "error",
          "ename": "TypeError",
          "evalue": "ignored",
          "traceback": [
            "\u001b[0;31m---------------------------------------------------------------------------\u001b[0m",
            "\u001b[0;31mTypeError\u001b[0m                                 Traceback (most recent call last)",
            "\u001b[0;32m<ipython-input-51-f2b4283a9711>\u001b[0m in \u001b[0;36m<module>\u001b[0;34m()\u001b[0m\n\u001b[1;32m      3\u001b[0m \u001b[0;32mfor\u001b[0m \u001b[0mrow\u001b[0m \u001b[0;32min\u001b[0m \u001b[0mdata\u001b[0m \u001b[0;34m:\u001b[0m\u001b[0;34m\u001b[0m\u001b[0;34m\u001b[0m\u001b[0m\n\u001b[1;32m      4\u001b[0m     \u001b[0mpayment\u001b[0m \u001b[0;34m=\u001b[0m \u001b[0mrow\u001b[0m\u001b[0;34m[\u001b[0m\u001b[0;36m6\u001b[0m\u001b[0;34m]\u001b[0m\u001b[0;34m\u001b[0m\u001b[0;34m\u001b[0m\u001b[0m\n\u001b[0;32m----> 5\u001b[0;31m     \u001b[0mtotal\u001b[0m \u001b[0;34m+=\u001b[0m \u001b[0mpayment\u001b[0m\u001b[0;34m\u001b[0m\u001b[0;34m\u001b[0m\u001b[0m\n\u001b[0m",
            "\u001b[0;31mTypeError\u001b[0m: unsupported operand type(s) for +=: 'int' and 'str'"
          ]
        }
      ]
    },
    {
      "cell_type": "markdown",
      "metadata": {
        "id": "sk_9v2hLyrNk"
      },
      "source": [
        "파일로 읽어들인 데이터는 모두 문자이다. "
      ]
    },
    {
      "cell_type": "code",
      "metadata": {
        "id": "Oaq__8xwyu7P",
        "colab": {
          "base_uri": "https://localhost:8080/",
          "height": 36
        },
        "outputId": "4f2a0283-bf2a-4f63-b04d-fb500b0aa9c4"
      },
      "source": [
        "# 3개월간 사용한 총 금액은? ^_ㅠ??\n",
        "total = 0\n",
        "for row in data : \n",
        "    payment = int(row[6])\n",
        "    total += payment\n",
        "\n",
        "print(total)"
      ],
      "execution_count": null,
      "outputs": [
        {
          "output_type": "stream",
          "text": [
            "11419825\n"
          ],
          "name": "stdout"
        }
      ]
    },
    {
      "cell_type": "code",
      "metadata": {
        "id": "-A7grbYry7JZ",
        "colab": {
          "base_uri": "https://localhost:8080/",
          "height": 36
        },
        "outputId": "b0111227-f7bd-4c25-eadb-101bb500bdea"
      },
      "source": [
        "# 3개월간 사용한 \"진짜\" 총 금액은? ^_ㅠ??\n",
        "total = 0\n",
        "for row in data : \n",
        "    if row[-1] == '전표매입' : \n",
        "        payment = int(row[6])\n",
        "        total += payment\n",
        "\n",
        "print(total)"
      ],
      "execution_count": null,
      "outputs": [
        {
          "output_type": "stream",
          "text": [
            "8174028\n"
          ],
          "name": "stdout"
        }
      ]
    },
    {
      "cell_type": "markdown",
      "metadata": {
        "id": "KKcsbWawz7_8"
      },
      "source": [
        "# 13. 진짜! 데이터 분석!\n",
        "#### 첫 번째 도전 - 10월, 11월, 12월 지출액을 그래프로 그리기\n",
        "\n",
        "잠깐! 그래프로 그리려면?      plt.plot()안에 뭐가 필요할까?\n",
        "\n",
        "---\n",
        "\n",
        "<img src = 'https://github.com/Ahnjihye/allinone_AI/blob/images/24_%EC%B9%B4%EB%93%9C%20%EB%A6%AC%EC%8A%A4%ED%8A%B8.png?raw=true' width = 400>"
      ]
    },
    {
      "cell_type": "code",
      "metadata": {
        "id": "DRJXI5T-2EPT",
        "colab": {
          "base_uri": "https://localhost:8080/",
          "height": 35
        },
        "outputId": "bd077355-e407-46db-ccb7-849bcc70290d"
      },
      "source": [
        "data[0][0]"
      ],
      "execution_count": 18,
      "outputs": [
        {
          "output_type": "execute_result",
          "data": {
            "application/vnd.google.colaboratory.intrinsic+json": {
              "type": "string"
            },
            "text/plain": [
              "'2019-10-12 9:13'"
            ]
          },
          "metadata": {
            "tags": []
          },
          "execution_count": 18
        }
      ]
    },
    {
      "cell_type": "code",
      "metadata": {
        "id": "nzbtTm8H2Io6",
        "colab": {
          "base_uri": "https://localhost:8080/",
          "height": 35
        },
        "outputId": "7eec1e71-fc4d-4e7e-8350-cb1f07a8303c"
      },
      "source": [
        "# 년도만 저장해보기\r\n",
        "year = data[0][0][:4]\r\n",
        "year"
      ],
      "execution_count": 20,
      "outputs": [
        {
          "output_type": "execute_result",
          "data": {
            "application/vnd.google.colaboratory.intrinsic+json": {
              "type": "string"
            },
            "text/plain": [
              "'2019'"
            ]
          },
          "metadata": {
            "tags": []
          },
          "execution_count": 20
        }
      ]
    },
    {
      "cell_type": "code",
      "metadata": {
        "colab": {
          "base_uri": "https://localhost:8080/"
        },
        "id": "DCRV8WAmjA8Z",
        "outputId": "e580c285-4b05-4bd8-b651-45c6bc574b30"
      },
      "source": [
        "year = int(year)\r\n",
        "year"
      ],
      "execution_count": 21,
      "outputs": [
        {
          "output_type": "execute_result",
          "data": {
            "text/plain": [
              "2019"
            ]
          },
          "metadata": {
            "tags": []
          },
          "execution_count": 21
        }
      ]
    },
    {
      "cell_type": "code",
      "metadata": {
        "colab": {
          "base_uri": "https://localhost:8080/"
        },
        "id": "mX4w_tcyg20e",
        "outputId": "6480d76a-da09-4632-9ef2-af5bcc7ae85b"
      },
      "source": [
        "# 월만 저장해보기\r\n",
        "mon = int(data[0][0][5:7])\r\n",
        "mon"
      ],
      "execution_count": 22,
      "outputs": [
        {
          "output_type": "execute_result",
          "data": {
            "text/plain": [
              "10"
            ]
          },
          "metadata": {
            "tags": []
          },
          "execution_count": 22
        }
      ]
    },
    {
      "cell_type": "code",
      "metadata": {
        "id": "t2ja02zPy7L7",
        "colab": {
          "base_uri": "https://localhost:8080/"
        },
        "outputId": "0d6110e7-612a-4ae7-9fba-23522b9808fe"
      },
      "source": [
        "# 10-12월 지출액 저장하는 리스트 \n",
        "# [0]에 10월, [1]에 11월, [2]에 12월 저장\n",
        "spend = [0, 0, 0]\n",
        "\n",
        "for row in data : \n",
        "    if row[-1] == '전표매입' : \n",
        "        mon = int(row[0][5:7])\n",
        "        idx = mon - 10                \n",
        "        payment = int(row[6])\n",
        "        spend[idx] += payment\n",
        "\n",
        "print(spend)"
      ],
      "execution_count": 24,
      "outputs": [
        {
          "output_type": "stream",
          "text": [
            "[2093015, 4127744, 1953269]\n"
          ],
          "name": "stdout"
        }
      ]
    },
    {
      "cell_type": "code",
      "metadata": {
        "id": "i2-cuPNs2y9d",
        "colab": {
          "base_uri": "https://localhost:8080/"
        },
        "outputId": "9e3e1922-7d76-4410-e748-ca0956722d27"
      },
      "source": [
        "# 초간단ver\n",
        "spend = [0, 0, 0]\n",
        "\n",
        "for row in data : \n",
        "    if row[-1] == '전표매입' : \n",
        "        spend[int(row[0][5:7]) - 10 ] += int(row[6])\n",
        "\n",
        "print(spend)"
      ],
      "execution_count": 26,
      "outputs": [
        {
          "output_type": "stream",
          "text": [
            "[2093015, 4127744, 1953269]\n"
          ],
          "name": "stdout"
        }
      ]
    },
    {
      "cell_type": "code",
      "metadata": {
        "id": "VxmnUsvcy7Qq",
        "colab": {
          "base_uri": "https://localhost:8080/",
          "height": 280
        },
        "outputId": "1e0e75c6-db76-4c32-bdef-3cabffc29445"
      },
      "source": [
        "import matplotlib.pyplot as plt\n",
        "\n",
        "plt.title('10-12월 지출현황')\n",
        "plt.bar(['10월','11월','12월'], spend, color = 'royalblue')\n",
        "plt.show()"
      ],
      "execution_count": 27,
      "outputs": [
        {
          "output_type": "display_data",
          "data": {
            "image/png": "[encoded data removed]",
            "text/plain": [
              "<Figure size 432x288 with 1 Axes>"
            ]
          },
          "metadata": {
            "tags": [],
            "needs_background": "light"
          }
        }
      ]
    },
    {
      "cell_type": "markdown",
      "metadata": {
        "id": "WqbXQ3Nc3vDM"
      },
      "source": [
        "안지혜 선생님은 돈을 얼마나 낭비했을까?"
      ]
    },
    {
      "cell_type": "markdown",
      "metadata": {
        "id": "CJIzyZgU3nAD"
      },
      "source": [
        "#### 두번째 도전! 월별 택시 이용 금액 구하기"
      ]
    },
    {
      "cell_type": "code",
      "metadata": {
        "id": "NAKsjo--zCXX",
        "colab": {
          "base_uri": "https://localhost:8080/"
        },
        "outputId": "4180c683-7bec-4df8-db8a-aec3c87c915f"
      },
      "source": [
        "taxi = [0,0,0]\n",
        "\n",
        "for row in data : \n",
        "    if row[-1] == '전표매입' and '택시' in row[5] : \n",
        "        mon = int(row[0][5:7])\n",
        "        idx = mon-10\n",
        "        payment = int(row[-3])        \n",
        "        taxi[idx] += payment\n",
        "        print(row[5], mon,'월',taxi)\n",
        "\n",
        "print(taxi)"
      ],
      "execution_count": 28,
      "outputs": [
        {
          "output_type": "stream",
          "text": [
            "카카오페이(택시) 10 월 [4200, 0, 0]\n",
            "티머니 개인택시 10 월 [8600, 0, 0]\n",
            "티머니 개인택시 11 월 [8600, 4700, 0]\n",
            "티머니 개인택시 11 월 [8600, 12800, 0]\n",
            "카카오페이(택시) 11 월 [8600, 19600, 0]\n",
            "카카오페이(택시) 11 월 [8600, 24600, 0]\n",
            "티머니 개인택시 11 월 [8600, 34700, 0]\n",
            "카카오페이(택시) 11 월 [8600, 62600, 0]\n",
            "카카오페이(택시) 11 월 [8600, 73000, 0]\n",
            "카카오페이(택시) 11 월 [8600, 78600, 0]\n",
            "카카오페이(택시) 11 월 [8600, 83900, 0]\n",
            "카카오페이(택시) 12 월 [8600, 83900, 5900]\n",
            "카카오페이(택시)1 12 월 [8600, 83900, 13600]\n",
            "카카오페이(택시) 12 월 [8600, 83900, 14600]\n",
            "카카오페이(택시)1 12 월 [8600, 83900, 23300]\n",
            "카카오페이(택시) 12 월 [8600, 83900, 24300]\n",
            "디지비유페이택시개인1 12 월 [8600, 83900, 30600]\n",
            "티머니 법인택시 12 월 [8600, 83900, 44100]\n",
            "티머니 법인택시 12 월 [8600, 83900, 47900]\n",
            "카카오페이(택시) 12 월 [8600, 83900, 52800]\n",
            "[8600, 83900, 52800]\n"
          ],
          "name": "stdout"
        }
      ]
    },
    {
      "cell_type": "code",
      "metadata": {
        "id": "k9rWiM2y31QN",
        "colab": {
          "base_uri": "https://localhost:8080/",
          "height": 36
        },
        "outputId": "fa7fbe53-d485-4426-a290-9c2ceb4f19d7"
      },
      "source": [
        "# 초간단 ver\n",
        "taxi = [0,0,0]\n",
        "\n",
        "for row in data : \n",
        "    if row[-1] == '전표매입' and '택시' in row[5] : \n",
        "        taxi[int(row[0].split('-')[1])-10] += int(row[-3])\n",
        "\n",
        "print(taxi)"
      ],
      "execution_count": null,
      "outputs": [
        {
          "output_type": "stream",
          "text": [
            "[8600, 83900, 52800]\n"
          ],
          "name": "stdout"
        }
      ]
    },
    {
      "cell_type": "code",
      "metadata": {
        "id": "eC-54uUm31So",
        "colab": {
          "base_uri": "https://localhost:8080/",
          "height": 265
        },
        "outputId": "6ce0eb0b-bc59-4778-c39e-98b6ea977466"
      },
      "source": [
        "plt.plot(['10월','11월','12월'],taxi, color = 'crimson', label ='택시 지출액')\n",
        "plt.legend()\n",
        "plt.show()"
      ],
      "execution_count": null,
      "outputs": [
        {
          "output_type": "display_data",
          "data": {
            "image/png": "[encoded data removed]",
            "text/plain": [
              "<Figure size 432x288 with 1 Axes>"
            ]
          },
          "metadata": {
            "tags": [],
            "image/png": {
              "width": 386,
              "height": 248
            },
            "needs_background": "light"
          }
        }
      ]
    },
    {
      "cell_type": "markdown",
      "metadata": {
        "id": "9yQp40sX31ar"
      },
      "source": [
        "#### 세번째 도전! 월별 배달 이용 금액 구하기"
      ]
    },
    {
      "cell_type": "code",
      "metadata": {
        "id": "IU4xutnd31VM",
        "colab": {
          "base_uri": "https://localhost:8080/",
          "height": 36
        },
        "outputId": "b2cdfd68-5e6b-47c4-c3ea-fd341e7a0e99"
      },
      "source": [
        "deli = [0,0,0]\n",
        "\n",
        "for row in data : \n",
        "    if row[-1] == '전표매입' and row[5] == '(주)우아한형제들': \n",
        "        mon = int(row[0].split('-')[1])\n",
        "        idx = mon-10\n",
        "        payment = int(row[-3])\n",
        "        \n",
        "        deli[idx] += payment\n",
        "\n",
        "print(deli)"
      ],
      "execution_count": null,
      "outputs": [
        {
          "output_type": "stream",
          "text": [
            "[134300, 127900, 99230]\n"
          ],
          "name": "stdout"
        }
      ]
    },
    {
      "cell_type": "code",
      "metadata": {
        "id": "nIoEOuNJ31fz",
        "colab": {
          "base_uri": "https://localhost:8080/",
          "height": 265
        },
        "outputId": "ecb06b09-821d-42fd-f693-765e8de7d590"
      },
      "source": [
        "plt.plot(['10월','11월','12월'], deli, color = 'indigo', label ='배달음식 지출액')\n",
        "plt.legend()\n",
        "plt.show()"
      ],
      "execution_count": null,
      "outputs": [
        {
          "output_type": "display_data",
          "data": {
            "image/png": "[encoded data removed]",
            "text/plain": [
              "<Figure size 432x288 with 1 Axes>"
            ]
          },
          "metadata": {
            "tags": [],
            "image/png": {
              "width": 392,
              "height": 248
            },
            "needs_background": "light"
          }
        }
      ]
    },
    {
      "cell_type": "markdown",
      "metadata": {
        "id": "A2F6ROi_4Rix"
      },
      "source": [
        "#### 비교하는 그래프 그리기"
      ]
    },
    {
      "cell_type": "code",
      "metadata": {
        "id": "EdQ0Poe431ik",
        "colab": {
          "base_uri": "https://localhost:8080/",
          "height": 280
        },
        "outputId": "f4fb3b36-f93d-4a2d-cf46-f4e491d1239c"
      },
      "source": [
        "plt.title('10-12월 돈을 얼마나 낭비했지?')\n",
        "plt.plot(['10월','11월','12월'],taxi, color = 'crimson', label ='택시 지출액')\n",
        "plt.plot(['10월','11월','12월'], deli, color = 'indigo', label ='배달음식 지출액')\n",
        "plt.legend()\n",
        "plt.show()"
      ],
      "execution_count": null,
      "outputs": [
        {
          "output_type": "display_data",
          "data": {
            "image/png": "[encoded data removed]",
            "text/plain": [
              "<Figure size 432x288 with 1 Axes>"
            ]
          },
          "metadata": {
            "tags": [],
            "image/png": {
              "width": 392,
              "height": 263
            },
            "needs_background": "light"
          }
        }
      ]
    },
    {
      "cell_type": "code",
      "metadata": {
        "id": "eamU672F8Lsf"
      },
      "source": [
        ""
      ],
      "execution_count": null,
      "outputs": []
    }
  ]
}