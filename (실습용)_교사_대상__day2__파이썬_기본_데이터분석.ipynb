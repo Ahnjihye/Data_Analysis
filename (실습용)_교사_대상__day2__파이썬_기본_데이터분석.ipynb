{
  "nbformat": 4,
  "nbformat_minor": 0,
  "metadata": {
    "colab": {
      "name": "(실습용) 교사 대상_ day2 _파이썬 기본_데이터분석",
      "provenance": [],
      "collapsed_sections": [],
      "authorship_tag": "ABX9TyPZolTxRHGs7LTmHs/uBRjB",
      "include_colab_link": true
    },
    "kernelspec": {
      "name": "python3",
      "display_name": "Python 3"
    }
  },
  "cells": [
    {
      "cell_type": "markdown",
      "metadata": {
        "id": "view-in-github",
        "colab_type": "text"
      },
      "source": [
        "<a href=\"https://colab.research.google.com/github/Ahnjihye/Data_Analysis-/blob/master/(%EC%8B%A4%EC%8A%B5%EC%9A%A9)_%EA%B5%90%EC%82%AC_%EB%8C%80%EC%83%81__day2__%ED%8C%8C%EC%9D%B4%EC%8D%AC_%EA%B8%B0%EB%B3%B8_%EB%8D%B0%EC%9D%B4%ED%84%B0%EB%B6%84%EC%84%9D.ipynb\" target=\"_parent\"><img src=\"https://colab.research.google.com/assets/colab-badge.svg\" alt=\"Open In Colab\"/></a>"
      ]
    },
    {
      "cell_type": "markdown",
      "metadata": {
        "id": "UCdFsLZvKa_C"
      },
      "source": [
        "# 8. 반복문\n",
        "<img src = 'https://github.com/Ahnjihye/allinone_AI/blob/images/4_%EB%B0%98%EB%B3%B5%EB%AC%B8.png?raw=true' width=500>\n",
        "\n"
      ]
    },
    {
      "cell_type": "code",
      "metadata": {
        "id": "IQtiqCfit48u"
      },
      "source": [
        "\n"
      ],
      "execution_count": null,
      "outputs": []
    },
    {
      "cell_type": "markdown",
      "metadata": {
        "id": "oEfcTfzDFlqS"
      },
      "source": [
        "<img src ='https://github.com/Ahnjihye/allinone_AI/blob/images/5_%EB%B0%98%EB%B3%B5%EB%AC%B8%20%EB%8F%99%EC%9E%91%EA%B5%AC%EC%A1%B0.png?raw=true' width=500>"
      ]
    },
    {
      "cell_type": "markdown",
      "metadata": {
        "id": "FAq15VaRk9Ai"
      },
      "source": [
        "다음 spend의 모든 원소를 차례대로 출력하시오 \n",
        "\n",
        "\n",
        "```\n",
        "spend = [43, 12, 65, 67, 23, 12]\n",
        "```\n",
        "\n"
      ]
    },
    {
      "cell_type": "code",
      "metadata": {
        "id": "F2EVpvIMt4_R"
      },
      "source": [
        "\n",
        "\n"
      ],
      "execution_count": null,
      "outputs": []
    },
    {
      "cell_type": "markdown",
      "metadata": {
        "id": "G-bRbKPmU47N"
      },
      "source": [
        "### 리스트와 반복문, 조건문"
      ]
    },
    {
      "cell_type": "code",
      "metadata": {
        "id": "w8oyLMGlpklS"
      },
      "source": [
        "# 50이상 쓴 금액을 출력하시오\n",
        "\n"
      ],
      "execution_count": null,
      "outputs": []
    },
    {
      "cell_type": "markdown",
      "metadata": {
        "id": "qRSeABPrINGK"
      },
      "source": [
        "### range(시작숫자, 종료숫자)\r\n",
        "\r\n",
        "연속된 숫자를 표현하는 range()"
      ]
    },
    {
      "cell_type": "code",
      "metadata": {
        "id": "XP9lM2GHt5B0"
      },
      "source": [
        "# 인덱스를 활용하고 싶을 때 range()\n",
        "\n"
      ],
      "execution_count": null,
      "outputs": []
    },
    {
      "cell_type": "code",
      "metadata": {
        "id": "draOPFNGIkAr"
      },
      "source": [
        "# 인덱스는 0부터 시작\r\n",
        "\r\n"
      ],
      "execution_count": null,
      "outputs": []
    },
    {
      "cell_type": "code",
      "metadata": {
        "id": "dx99LE7Xt5EO"
      },
      "source": [
        "# len() 활용하기\n",
        "\n"
      ],
      "execution_count": null,
      "outputs": []
    },
    {
      "cell_type": "code",
      "metadata": {
        "id": "YBNqt2c-t5Gk"
      },
      "source": [
        "# range()가 0부터 시작하면 생략 가능\n",
        "\n"
      ],
      "execution_count": null,
      "outputs": []
    },
    {
      "cell_type": "markdown",
      "metadata": {
        "id": "yKBftUkFI4u2"
      },
      "source": [
        "spend에서 50이상 쓴 달을 출력하시오, 단 range를 사용하시오"
      ]
    },
    {
      "cell_type": "code",
      "metadata": {
        "id": "cxMjVzt0Ie79"
      },
      "source": [
        "# 50이상 쓴 달을 출력하시오\n",
        "\n"
      ],
      "execution_count": null,
      "outputs": []
    },
    {
      "cell_type": "markdown",
      "metadata": {
        "id": "Mliij-AiZr4_"
      },
      "source": [
        "# 9. 이차원 리스트\n",
        "\n",
        "<img src ='https://github.com/Ahnjihye/allinone_AI/blob/images/14_%EC%9D%B4%EC%B0%A8%EC%9B%90%20%EB%A6%AC%EC%8A%A4%ED%8A%B8.png?raw=true' width = 700>"
      ]
    },
    {
      "cell_type": "code",
      "metadata": {
        "id": "eyn2kEQeMfqE"
      },
      "source": [
        "\n"
      ],
      "execution_count": null,
      "outputs": []
    },
    {
      "cell_type": "code",
      "metadata": {
        "id": "ekoX7rEMMfqK"
      },
      "source": [
        ""
      ],
      "execution_count": null,
      "outputs": []
    },
    {
      "cell_type": "code",
      "metadata": {
        "id": "cLHKenaTMfqL"
      },
      "source": [
        ""
      ],
      "execution_count": null,
      "outputs": []
    },
    {
      "cell_type": "code",
      "metadata": {
        "id": "53nZXQThMfqM"
      },
      "source": [
        ""
      ],
      "execution_count": null,
      "outputs": []
    },
    {
      "cell_type": "markdown",
      "metadata": {
        "id": "mWKj1wiAMfqO"
      },
      "source": [
        "### 이차원 리스트의 인덱스\n",
        "\n",
        "<img src = 'https://github.com/Ahnjihye/allinone_AI/blob/images/15_%EC%9D%B4%EC%B0%A8%EC%9B%90%20%EB%A6%AC%EC%8A%A4%ED%8A%B8%20%EC%9D%B8%EB%8D%B1%EC%8A%A4.png?raw=true' width = 700>"
      ]
    },
    {
      "cell_type": "code",
      "metadata": {
        "id": "-0JLvjWgMfqP"
      },
      "source": [
        "# 1 출력하기\n"
      ],
      "execution_count": null,
      "outputs": []
    },
    {
      "cell_type": "markdown",
      "metadata": {
        "id": "-bcfTuieldf0"
      },
      "source": [
        "이차원 리스트 abd에서 인덱스를 활용해 다음 숫자를 출력하시오"
      ]
    },
    {
      "cell_type": "code",
      "metadata": {
        "id": "ybwmC8McMfqR"
      },
      "source": [
        "# 6 출력하기\n"
      ],
      "execution_count": null,
      "outputs": []
    },
    {
      "cell_type": "code",
      "metadata": {
        "id": "h7y-g7pzMfqS"
      },
      "source": [
        "# 8 출력하기\n"
      ],
      "execution_count": null,
      "outputs": []
    },
    {
      "cell_type": "markdown",
      "metadata": {
        "id": "2YUUytTsftU5"
      },
      "source": [
        "### 반복문과 이차원 리스트"
      ]
    },
    {
      "cell_type": "code",
      "metadata": {
        "id": "q1FP52BvMfqU"
      },
      "source": [
        "\n"
      ],
      "execution_count": null,
      "outputs": []
    },
    {
      "cell_type": "markdown",
      "metadata": {
        "id": "ZslBNVQ4MfqV"
      },
      "source": [
        "> 이차원리스트 반복 원리\n",
        "\n",
        "<img src = 'https://github.com/Ahnjihye/allinone_AI/blob/images/16_%EC%9D%B4%EC%B0%A8%EC%9B%90%20%EB%A6%AC%EC%8A%A4%ED%8A%B8%20%EB%B0%98%EB%B3%B5%EA%B5%AC%EC%A1%B0.png?raw=true' width=800>"
      ]
    },
    {
      "cell_type": "code",
      "metadata": {
        "id": "4t61OoQUMfqV"
      },
      "source": [
        "# 모든 줄의 첫번째 데이터만 출력\n",
        "\n"
      ],
      "execution_count": null,
      "outputs": []
    },
    {
      "cell_type": "code",
      "metadata": {
        "id": "IvQlLOGhMfqW"
      },
      "source": [
        "# 모든 줄의 마지막 데이터(세번째 열)만 출력\n",
        "\n"
      ],
      "execution_count": null,
      "outputs": []
    },
    {
      "cell_type": "markdown",
      "metadata": {
        "id": "gKl6ITBVf4dN"
      },
      "source": [
        "# 10. 올림픽 데이터 "
      ]
    },
    {
      "cell_type": "markdown",
      "metadata": {
        "id": "bIBp6iFLMfqY"
      },
      "source": [
        "<img src= 'https://github.com/Ahnjihye/allinone_AI/blob/images/17_%EC%98%AC%EB%A6%BC%ED%94%BD.png?raw=true' width=500>"
      ]
    },
    {
      "cell_type": "markdown",
      "metadata": {
        "id": "XEF7EOlBLJUl"
      },
      "source": [
        "\r\n",
        "\r\n",
        "```\r\n",
        "data =[\r\n",
        "          [1,'미국',46,37,38,121],\r\n",
        "          [2,'영국',27,23,17,67],\r\n",
        "          [3,'중국',26,18,26,70],\r\n",
        "          [4,'러시아',19,18,19,56],\r\n",
        "          [5,'독일',17,10,15,42],\r\n",
        "          [6,'일본',12,8,21,41],\r\n",
        "          [7,'프랑스',10,18,14,42],\r\n",
        "          [8,'대한민국',9,3,9,21] \r\n",
        "        ]\r\n",
        "```\r\n",
        "\r\n"
      ]
    },
    {
      "cell_type": "code",
      "metadata": {
        "id": "0VrPyd2vMfqZ"
      },
      "source": [
        "\n"
      ],
      "execution_count": null,
      "outputs": []
    },
    {
      "cell_type": "code",
      "metadata": {
        "id": "G7IrajJ1Mfqa"
      },
      "source": [
        "# 순위권에 든 모든 국가를 출력하시오\n",
        "\n"
      ],
      "execution_count": null,
      "outputs": []
    },
    {
      "cell_type": "code",
      "metadata": {
        "id": "Eu7RUnssMfqb"
      },
      "source": [
        "# 금메달보다 은메달 개수가 많은 나라를 출력하시오\n",
        "\n"
      ],
      "execution_count": null,
      "outputs": []
    },
    {
      "cell_type": "code",
      "metadata": {
        "id": "1EbMZLoZMfqc"
      },
      "source": [
        "# 금메달보다 동메달 개수가 많은 나라를 출력하시오\n",
        "\n"
      ],
      "execution_count": null,
      "outputs": []
    },
    {
      "cell_type": "code",
      "metadata": {
        "id": "LtY4aNsQMfqd"
      },
      "source": [
        "# 모든 나라의 금메달 합을 구하시오\n",
        "\n"
      ],
      "execution_count": null,
      "outputs": []
    },
    {
      "cell_type": "code",
      "metadata": {
        "id": "S07712BhMfqd"
      },
      "source": [
        ""
      ],
      "execution_count": null,
      "outputs": []
    },
    {
      "cell_type": "markdown",
      "metadata": {
        "id": "oYkEGYI7uF50"
      },
      "source": [
        "# 11. 그래프 그리기"
      ]
    },
    {
      "cell_type": "markdown",
      "metadata": {
        "id": "AES1v-5fNJG_"
      },
      "source": [
        "올림픽 데이터에서 국가명끼리, 금메달개수끼리, 은메달개수, 동메달개수끼리 리스트로 묶어보기 \r\n",
        "\r\n",
        "-> 반복문을 사용하기\r\n",
        "\r\n",
        "```\r\n",
        "['미국', '영국', '중국', '러시아', '독일', '일본', '프랑스', '대한민국']\r\n",
        "[46, 27, 26, 19, 17, 12, 10, 9]\r\n",
        "[37, 23, 18, 18, 10, 8, 18, 3]\r\n",
        "[38, 17, 26, 19, 15, 21, 14, 9]\r\n",
        "```\r\n",
        "\r\n"
      ]
    },
    {
      "cell_type": "code",
      "metadata": {
        "id": "tXnHEG4bNIA7"
      },
      "source": [
        "\r\n",
        "\r\n"
      ],
      "execution_count": null,
      "outputs": []
    },
    {
      "cell_type": "code",
      "metadata": {
        "id": "biyG6qVSTUnF"
      },
      "source": [
        "# 금메달 꺾은선그래프 그리기\n"
      ],
      "execution_count": null,
      "outputs": []
    },
    {
      "cell_type": "code",
      "metadata": {
        "id": "Vehi9X7WuGG2"
      },
      "source": [
        "\n"
      ],
      "execution_count": null,
      "outputs": []
    },
    {
      "cell_type": "code",
      "metadata": {
        "id": "xxcnexay1W15"
      },
      "source": [
        "# X축, y축\n",
        "\n"
      ],
      "execution_count": null,
      "outputs": []
    },
    {
      "cell_type": "markdown",
      "metadata": {
        "id": "VHFqV5rYOM_i"
      },
      "source": [
        "### 그래프에 한글 표현하기\r\n",
        "\r\n",
        "\r\n",
        "1. 다음 코드 실행\r\n",
        "```\r\n",
        "!sudo apt-get install -y fonts-nanum\r\n",
        "!sudo fc-cache -fv\r\n",
        "!rm ~/.cache/matplotlib -rf\r\n",
        "```\r\n",
        "2. 런타임 - 런타임 다시 시작\r\n",
        "3. 다음 코드로 나눔 글꼴 설정\r\n",
        "\r\n",
        "```\r\n",
        "plt.rc('font', NanumGothic) \r\n",
        "```\r\n",
        "\r\n",
        "\r\n"
      ]
    },
    {
      "cell_type": "code",
      "metadata": {
        "id": "Bi9rwZvLOq1T"
      },
      "source": [
        "\r\n"
      ],
      "execution_count": null,
      "outputs": []
    },
    {
      "cell_type": "markdown",
      "metadata": {
        "id": "imYw7mhiPNQ-"
      },
      "source": [
        "\r\n",
        "런타임이 초기화되었으므로, 다음 코드를 다시 실행해주어야 함\r\n",
        "```\r\n",
        "import matplotlib.pyplot as plt\r\n",
        "\r\n",
        "data =[\r\n",
        "          [1,'미국',46,37,38,121],\r\n",
        "          [2,'영국',27,23,17,67],\r\n",
        "          [3,'중국',26,18,26,70],\r\n",
        "          [4,'러시아',19,18,19,56],\r\n",
        "          [5,'독일',17,10,15,42],\r\n",
        "          [6,'일본',12,8,21,41],\r\n",
        "          [7,'프랑스',10,18,14,42],\r\n",
        "          [8,'대한민국',9,3,9,21] \r\n",
        "        ]\r\n",
        "        \r\n",
        "nation = []\r\n",
        "gold = []\r\n",
        "silver = []\r\n",
        "bronze = []\r\n",
        "\r\n",
        "for row in data : \r\n",
        "    nation.append(row[1])\r\n",
        "    gold.append(row[2])\r\n",
        "    silver.append(row[3])\r\n",
        "    bronze.append(row[4])\r\n",
        "```\r\n",
        "\r\n",
        "다시 그려볼 그래프\r\n",
        "\r\n",
        "\r\n",
        "```\r\n",
        "# 폰트 추가\r\n",
        "plt.rc('font', family ='NanumGothic') \r\n",
        "plt.plot(nation, gold)\r\n",
        "plt.show()\r\n",
        "```\r\n",
        "\r\n",
        "\r\n"
      ]
    },
    {
      "cell_type": "code",
      "metadata": {
        "id": "_o3DLtpHO0B_"
      },
      "source": [
        "\r\n",
        "\r\n",
        "\r\n"
      ],
      "execution_count": null,
      "outputs": []
    },
    {
      "cell_type": "code",
      "metadata": {
        "id": "GIpv8hFY1Zd3"
      },
      "source": [
        "# 그래프 제목 추가\n"
      ],
      "execution_count": null,
      "outputs": []
    },
    {
      "cell_type": "code",
      "metadata": {
        "id": "X5oiodjF1W7N"
      },
      "source": [
        "# 색상 변경\n",
        "\n"
      ],
      "execution_count": null,
      "outputs": []
    },
    {
      "cell_type": "markdown",
      "metadata": {
        "id": "i7uniz-93Olm"
      },
      "source": [
        "<img src = 'https://github.com/Ahnjihye/allinone_AI/blob/images/22_%EA%B7%B8%EB%9E%98%ED%94%84%20%EC%BB%AC%EB%9F%AC.png?raw=true' width = 500>"
      ]
    },
    {
      "cell_type": "code",
      "metadata": {
        "id": "svj84rbv3R4O"
      },
      "source": [
        "\n",
        "# 범례 label\n",
        "\n",
        "# 범례를 화면에 나타내는 legend()\n",
        "\n"
      ],
      "execution_count": null,
      "outputs": []
    },
    {
      "cell_type": "code",
      "metadata": {
        "id": "FqK9DGe5Q2Dr"
      },
      "source": [
        "# 여러 개의 그래프 겹쳐 그리기\r\n",
        "\r\n"
      ],
      "execution_count": null,
      "outputs": []
    },
    {
      "cell_type": "markdown",
      "metadata": {
        "id": "eZjmElRi2y4T"
      },
      "source": [
        "### 그래프 그리는 포맷\n",
        "\n",
        "\n",
        "```\n",
        "import matplotlib.pyplot as plt\n",
        "\n",
        "plt.title('그래프 제목')\n",
        "plt.plot(x축 데이터, y축 데이터)\n",
        "plt.show()\n",
        "```\n",
        "\n",
        "그래프 명령어 plt.plot()의 추가옵션\n",
        "\n",
        "\n",
        "```\n",
        "color = '색상이름'             \n",
        "label = '범례내용'\n",
        "```\n",
        "\n",
        "기타 사용가능한 명령어\n",
        "\n",
        "\n",
        "```\n",
        "plt.figure(dpi=150)     # 그래프 해상도 설정 \n",
        "plt.legend()            # 범례 나타내기\n",
        "```\n",
        "\n",
        "\n",
        "\n",
        "\n",
        "\n"
      ]
    },
    {
      "cell_type": "markdown",
      "metadata": {
        "id": "RXK9-hoI5IQM"
      },
      "source": [
        "\n",
        "**그래프 유형별 명령어**\n",
        "```\n",
        "# 꺾은선그래프\n",
        "plt.plot([x축 리스트], [y축 리스트])\n",
        "\n",
        "# 막대그래프 세로\n",
        "plt.bar([x축 리스트], [y축 리스트])\n",
        "\n",
        "# 막대그래프 가로\n",
        "plt.barh([x축 리스트], [y축 리스트])\n",
        "\n",
        "# 히스토그램 \n",
        "plt.hist( [리스트], bins = 구간개수 )\n",
        "\n",
        "# 원 그래프\n",
        "plt.pie( [리스트], labels = [데이터 구간 이름])\n",
        "\n",
        "# 산점도\n",
        "plt.scatter([x축 리스트], [y축 리스트])\n",
        "```"
      ]
    },
    {
      "cell_type": "markdown",
      "metadata": {
        "id": "R032dHnvuLca"
      },
      "source": [
        "# 11. 파일 업로드 & 데이터 분석\n",
        "\n",
        "#### csv 파일이란? \n",
        "comma seperated values의 약자로\n",
        "콤마(,)로 분리된 파일"
      ]
    },
    {
      "cell_type": "markdown",
      "metadata": {
        "id": "JhqABCphyq_v"
      },
      "source": [
        "<img src='https://github.com/Ahnjihye/allinone_AI/blob/images/18_csv%ED%8C%8C%EC%9D%BC.png?raw=true' width=800>"
      ]
    },
    {
      "cell_type": "code",
      "metadata": {
        "id": "xMe9NjEmuO2o"
      },
      "source": [
        "# 코랩에 파일 업로드\n",
        "\n"
      ],
      "execution_count": null,
      "outputs": []
    },
    {
      "cell_type": "markdown",
      "metadata": {
        "id": "856yefHCuK2D"
      },
      "source": [
        "------\n",
        "\n",
        "1.   파일 open\n",
        "2.   파일 읽기 reader\n",
        "3.   파일 헤더 건너뛰기\n",
        "4.   파일을 리스트로 바꾸기\n",
        "\n",
        "\n",
        "\n",
        "```\n",
        "# csv 라이브러리 임포트\n",
        "import csv \n",
        "\n",
        "f = open('파일명.csv')       # 파일 오픈\n",
        "data = csv.reader(f)         # 파일 읽기 reader\n",
        "next(data)                   # 파일 헤더 건너뛰기 \n",
        "data = list(data)            # 파일 리스트로 바꾸기\n",
        "```\n",
        "\n"
      ]
    },
    {
      "cell_type": "code",
      "metadata": {
        "id": "--E-FxMCuRlC"
      },
      "source": [
        "\n"
      ],
      "execution_count": null,
      "outputs": []
    },
    {
      "cell_type": "code",
      "metadata": {
        "id": "q3t86Z5LuRm7"
      },
      "source": [
        "\r\n"
      ],
      "execution_count": null,
      "outputs": []
    },
    {
      "cell_type": "code",
      "metadata": {
        "id": "4bnAQFR9uRo7"
      },
      "source": [
        "\r\n"
      ],
      "execution_count": null,
      "outputs": []
    },
    {
      "cell_type": "markdown",
      "metadata": {
        "id": "mCKJAnCsuO7z"
      },
      "source": [
        "# 12. 워밍업"
      ]
    },
    {
      "cell_type": "markdown",
      "metadata": {
        "id": "89v0MUZ4y0uJ"
      },
      "source": [
        "<img src ='https://github.com/Ahnjihye/allinone_AI/blob/images/19_%EB%8D%B0%EC%9D%B4%ED%84%B0%20%EA%B5%AC%EC%A1%B0.png?raw=true' width=600>"
      ]
    },
    {
      "cell_type": "code",
      "metadata": {
        "id": "0SSz-ZSvuRrV"
      },
      "source": [
        "# 카드이용일자 모두 출력하기\n",
        "\n"
      ],
      "execution_count": null,
      "outputs": []
    },
    {
      "cell_type": "code",
      "metadata": {
        "id": "RIz2XBOey6wh"
      },
      "source": [
        "# 카드 사용금액 모두 출력하기\n",
        "\n"
      ],
      "execution_count": null,
      "outputs": []
    },
    {
      "cell_type": "markdown",
      "metadata": {
        "id": "RzWt9ggxy7Ap"
      },
      "source": [
        "<img src ='https://github.com/Ahnjihye/allinone_AI/blob/images/20_%EB%8D%B0%EC%9D%B4%ED%84%B0%EB%B6%84%EC%84%9D%20%EB%B0%98%EB%B3%B5%EB%AC%B8.png?raw=true' width=800>"
      ]
    },
    {
      "cell_type": "code",
      "metadata": {
        "id": "JdHc9hvCy6y7"
      },
      "source": [
        "# 카드 사용처와 금액 모두 출력하기\n",
        "\n"
      ],
      "execution_count": null,
      "outputs": []
    },
    {
      "cell_type": "code",
      "metadata": {
        "id": "NgwKIIVszjfN"
      },
      "source": [
        "# 카드 사용처와 금액 모두 출력하기\n",
        "\n"
      ],
      "execution_count": null,
      "outputs": []
    },
    {
      "cell_type": "markdown",
      "metadata": {
        "id": "1IpuG5Jvy7Vk"
      },
      "source": [
        "<img src = 'https://github.com/Ahnjihye/allinone_AI/blob/images/21_%EB%8D%B0%EC%9D%B4%ED%84%B0%EB%B6%84%EC%84%9D_%EB%B0%98%EB%B3%B5%EB%AC%B82.png?raw=true' width=800>"
      ]
    },
    {
      "cell_type": "code",
      "metadata": {
        "id": "XDbYFvliy61T"
      },
      "source": [
        "# 3개월간 사용한 총 금액은? ^_ㅠ??\n",
        "\n"
      ],
      "execution_count": null,
      "outputs": []
    },
    {
      "cell_type": "markdown",
      "metadata": {
        "id": "sk_9v2hLyrNk"
      },
      "source": [
        "파일로 읽어들인 데이터는 모두 문자이다. "
      ]
    },
    {
      "cell_type": "code",
      "metadata": {
        "id": "Oaq__8xwyu7P"
      },
      "source": [
        "# 3개월간 사용한 총 금액은? ^_ㅠ??\n",
        "\n"
      ],
      "execution_count": null,
      "outputs": []
    },
    {
      "cell_type": "code",
      "metadata": {
        "id": "-A7grbYry7JZ"
      },
      "source": [
        "# 3개월간 사용한 \"진짜\" 총 금액은? ^_ㅠ??\n",
        "\n"
      ],
      "execution_count": null,
      "outputs": []
    },
    {
      "cell_type": "markdown",
      "metadata": {
        "id": "KKcsbWawz7_8"
      },
      "source": [
        "# 13. 진짜! 데이터 분석!\n",
        "#### 첫 번째 도전 - 10월, 11월, 12월 지출액을 그래프로 그리기\n",
        "\n",
        "잠깐! 그래프로 그리려면?      plt.plot()안에 뭐가 필요할까?\n",
        "\n",
        "---\n",
        "\n",
        "<img src = 'https://github.com/Ahnjihye/allinone_AI/blob/images/24_%EC%B9%B4%EB%93%9C%20%EB%A6%AC%EC%8A%A4%ED%8A%B8.png?raw=true' width = 400>"
      ]
    },
    {
      "cell_type": "code",
      "metadata": {
        "id": "DRJXI5T-2EPT"
      },
      "source": [
        ""
      ],
      "execution_count": null,
      "outputs": []
    },
    {
      "cell_type": "code",
      "metadata": {
        "id": "nzbtTm8H2Io6"
      },
      "source": [
        "# 년도만 저장해보기\r\n"
      ],
      "execution_count": null,
      "outputs": []
    },
    {
      "cell_type": "code",
      "metadata": {
        "id": "DCRV8WAmjA8Z"
      },
      "source": [
        "\r\n"
      ],
      "execution_count": null,
      "outputs": []
    },
    {
      "cell_type": "code",
      "metadata": {
        "id": "mX4w_tcyg20e"
      },
      "source": [
        "# 월만 저장해보기\r\n",
        "\r\n"
      ],
      "execution_count": null,
      "outputs": []
    },
    {
      "cell_type": "code",
      "metadata": {
        "id": "t2ja02zPy7L7"
      },
      "source": [
        "# 10-12월 지출액 저장하는 리스트 \n",
        "# [0]에 10월, [1]에 11월, [2]에 12월 저장\n",
        "\n"
      ],
      "execution_count": null,
      "outputs": []
    },
    {
      "cell_type": "code",
      "metadata": {
        "id": "i2-cuPNs2y9d"
      },
      "source": [
        "# 초간단ver\n",
        "\n"
      ],
      "execution_count": null,
      "outputs": []
    },
    {
      "cell_type": "code",
      "metadata": {
        "id": "VxmnUsvcy7Qq"
      },
      "source": [
        "\n"
      ],
      "execution_count": null,
      "outputs": []
    },
    {
      "cell_type": "markdown",
      "metadata": {
        "id": "WqbXQ3Nc3vDM"
      },
      "source": [
        "안지혜 선생님은 돈을 얼마나 낭비했을까?"
      ]
    },
    {
      "cell_type": "markdown",
      "metadata": {
        "id": "CJIzyZgU3nAD"
      },
      "source": [
        "#### 두번째 도전! 월별 택시 이용 금액 구하기"
      ]
    },
    {
      "cell_type": "code",
      "metadata": {
        "id": "NAKsjo--zCXX"
      },
      "source": [
        "\n"
      ],
      "execution_count": null,
      "outputs": []
    },
    {
      "cell_type": "code",
      "metadata": {
        "id": "k9rWiM2y31QN"
      },
      "source": [
        "# 초간단 ver\n",
        "\n"
      ],
      "execution_count": null,
      "outputs": []
    },
    {
      "cell_type": "code",
      "metadata": {
        "id": "eC-54uUm31So"
      },
      "source": [
        "\n"
      ],
      "execution_count": null,
      "outputs": []
    },
    {
      "cell_type": "markdown",
      "metadata": {
        "id": "9yQp40sX31ar"
      },
      "source": [
        "#### 세번째 도전! 월별 배달 이용 금액 구하기"
      ]
    },
    {
      "cell_type": "code",
      "metadata": {
        "id": "IU4xutnd31VM"
      },
      "source": [
        "\n"
      ],
      "execution_count": null,
      "outputs": []
    },
    {
      "cell_type": "code",
      "metadata": {
        "id": "nIoEOuNJ31fz"
      },
      "source": [
        "\n"
      ],
      "execution_count": null,
      "outputs": []
    },
    {
      "cell_type": "markdown",
      "metadata": {
        "id": "A2F6ROi_4Rix"
      },
      "source": [
        "#### 비교하는 그래프 그리기"
      ]
    },
    {
      "cell_type": "code",
      "metadata": {
        "id": "EdQ0Poe431ik"
      },
      "source": [
        "\n"
      ],
      "execution_count": null,
      "outputs": []
    },
    {
      "cell_type": "code",
      "metadata": {
        "id": "eamU672F8Lsf"
      },
      "source": [
        ""
      ],
      "execution_count": null,
      "outputs": []
    }
  ]
}