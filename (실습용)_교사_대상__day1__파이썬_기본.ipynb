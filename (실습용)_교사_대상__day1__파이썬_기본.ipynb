{
  "nbformat": 4,
  "nbformat_minor": 0,
  "metadata": {
    "colab": {
      "name": "(실습용) 교사 대상_ day1 _파이썬 기본",
      "provenance": [],
      "collapsed_sections": [],
      "authorship_tag": "ABX9TyMARlxu+oBeFQeor/dxdxtb",
      "include_colab_link": true
    },
    "kernelspec": {
      "name": "python3",
      "display_name": "Python 3"
    }
  },
  "cells": [
    {
      "cell_type": "markdown",
      "metadata": {
        "id": "view-in-github",
        "colab_type": "text"
      },
      "source": [
        "<a href=\"https://colab.research.google.com/github/Ahnjihye/Data_Analysis-/blob/master/(%EC%8B%A4%EC%8A%B5%EC%9A%A9)_%EA%B5%90%EC%82%AC_%EB%8C%80%EC%83%81__day1__%ED%8C%8C%EC%9D%B4%EC%8D%AC_%EA%B8%B0%EB%B3%B8.ipynb\" target=\"_parent\"><img src=\"https://colab.research.google.com/assets/colab-badge.svg\" alt=\"Open In Colab\"/></a>"
      ]
    },
    {
      "cell_type": "markdown",
      "metadata": {
        "id": "LJAHyqRXU_tN"
      },
      "source": [
        "# 1. 출력명령어 print()\n",
        "\n",
        "\n",
        "```\n",
        "print( 출력할 내용 )\n",
        "```\n",
        "\n"
      ]
    },
    {
      "cell_type": "code",
      "metadata": {
        "id": "fHog4iYYL-q4"
      },
      "source": [
        "# 숫자 출력 20210125\n"
      ],
      "execution_count": null,
      "outputs": []
    },
    {
      "cell_type": "code",
      "metadata": {
        "id": "-Mn2gKC1y2XL"
      },
      "source": [
        "# 문자 출력 2021년 1월 25일\n"
      ],
      "execution_count": null,
      "outputs": []
    },
    {
      "cell_type": "code",
      "metadata": {
        "id": "HndD3I4ybonQ"
      },
      "source": [
        "# 문자는 따옴표로 감싸주어야 함\n"
      ],
      "execution_count": null,
      "outputs": []
    },
    {
      "cell_type": "code",
      "metadata": {
        "id": "RqdNnVh2bopV"
      },
      "source": [
        "# 연산하여 출력하기\n",
        "\n"
      ],
      "execution_count": null,
      "outputs": []
    },
    {
      "cell_type": "code",
      "metadata": {
        "id": "TrSY6KTBborq"
      },
      "source": [
        "#** 제곱\n",
        "\n",
        "\n",
        "#몫\n",
        "\n",
        "\n",
        "#나머지\n"
      ],
      "execution_count": null,
      "outputs": []
    },
    {
      "cell_type": "code",
      "metadata": {
        "id": "7cPO3xrybowJ"
      },
      "source": [
        "# 문자 연결하여 출력하기\n"
      ],
      "execution_count": null,
      "outputs": []
    },
    {
      "cell_type": "markdown",
      "metadata": {
        "id": "v52XtOeCibk5"
      },
      "source": [
        "# 2. 입력명령어 input()\n",
        "\n",
        "\n",
        "```\n",
        "input('입력 안내문')\n",
        "```\n",
        "\n"
      ]
    },
    {
      "cell_type": "code",
      "metadata": {
        "id": "T-ohX30H6Y_V"
      },
      "source": [
        ""
      ],
      "execution_count": null,
      "outputs": []
    },
    {
      "cell_type": "code",
      "metadata": {
        "id": "A9I_oy-Zixhw"
      },
      "source": [
        ""
      ],
      "execution_count": null,
      "outputs": []
    },
    {
      "cell_type": "code",
      "metadata": {
        "id": "_iMdu4IzQ4vX"
      },
      "source": [
        "\n"
      ],
      "execution_count": null,
      "outputs": []
    },
    {
      "cell_type": "markdown",
      "metadata": {
        "id": "5TT7S64piqF8"
      },
      "source": [
        "결과 확인해보기\n",
        "> 입력된 데이터 양 옆의 작은 따옴표      \n",
        "> input()으로 읽어들인 데이터는 모두 문자로 인식"
      ]
    },
    {
      "cell_type": "markdown",
      "metadata": {
        "id": "V1qdZa0ljBQz"
      },
      "source": [
        "# 3. 변수\n",
        "\n",
        "\n",
        "<img src = 'https://github.com/Ahnjihye/allinone_AI/blob/images/1_%EB%B3%80%EC%88%98.png?raw=true' width =500>\n",
        "\n",
        "\n"
      ]
    },
    {
      "cell_type": "code",
      "metadata": {
        "id": "meu5005A5NKo"
      },
      "source": [
        "# 변수 a에 10을 저장하고 출력하기\n",
        "\n"
      ],
      "execution_count": null,
      "outputs": []
    },
    {
      "cell_type": "markdown",
      "metadata": {
        "id": "3iQgjH5g8Wby"
      },
      "source": [
        "<img src='https://github.com/Ahnjihye/allinone_AI/blob/images/2_%EB%B3%80%EC%88%98%EC%97%B0%EC%82%B0.png?raw=true' width =300px>"
      ]
    },
    {
      "cell_type": "code",
      "metadata": {
        "id": "hWFTw3aC5RrX"
      },
      "source": [
        "# a를 5증가시킨 후 출력하기\n",
        "\n"
      ],
      "execution_count": null,
      "outputs": []
    },
    {
      "cell_type": "code",
      "metadata": {
        "id": "44FBfDaI5PvO"
      },
      "source": [
        "# 같은 변수를 증가/감소시킬 때 간략하게 사용하기\n",
        "\n"
      ],
      "execution_count": null,
      "outputs": []
    },
    {
      "cell_type": "code",
      "metadata": {
        "id": "hMpEti1x5kii"
      },
      "source": [
        "\n"
      ],
      "execution_count": null,
      "outputs": []
    },
    {
      "cell_type": "markdown",
      "metadata": {
        "id": "ELgncLmGigNo"
      },
      "source": [
        "실습 1. 사과 3개, 바나나 1개, 키위 2개 구매한 가격을 새로운 변수에 저장하여 출력하기\r\n",
        "\r\n",
        "\r\n",
        "```\r\n",
        "# 출력결과\r\n",
        "사과는 1200원, 바나나는 800원, 키위는 1700\r\n",
        "```\r\n",
        "\r\n"
      ]
    },
    {
      "cell_type": "code",
      "metadata": {
        "id": "gN7pzv5jbo-B"
      },
      "source": [
        "\n"
      ],
      "execution_count": null,
      "outputs": []
    },
    {
      "cell_type": "code",
      "metadata": {
        "id": "kAnHKPxlnUMO"
      },
      "source": [
        "# 사과 3개, 바나나1개, 키위2개 구매한 가격은?\n",
        "\n"
      ],
      "execution_count": null,
      "outputs": []
    },
    {
      "cell_type": "markdown",
      "metadata": {
        "id": "XTITfZwoisIu"
      },
      "source": [
        "vip는 20% 할인된다. 동일한 물건을 구매했을 때 vip가 내는 가격을 새로운 변수 vip_price에 저장하여 출력하기\r\n",
        "\r\n",
        "\r\n",
        "\r\n",
        "```\r\n",
        "# 출력 결과\r\n",
        "vip가격은 000원\r\n",
        "```\r\n",
        "\r\n"
      ]
    },
    {
      "cell_type": "code",
      "metadata": {
        "id": "A7bhHZu-nnE_"
      },
      "source": [
        "\n"
      ],
      "execution_count": null,
      "outputs": []
    },
    {
      "cell_type": "markdown",
      "metadata": {
        "id": "kv0LoMHqmyXE"
      },
      "source": [
        "#  4. 데이터타입\n",
        "\n",
        "```\n",
        "정수 int\n",
        "실수 float\n",
        "문자 str\n",
        "```\n"
      ]
    },
    {
      "cell_type": "code",
      "metadata": {
        "id": "Yh4EzMknbpFi"
      },
      "source": [
        ""
      ],
      "execution_count": null,
      "outputs": []
    },
    {
      "cell_type": "code",
      "metadata": {
        "id": "zyFQbxIlbpHu"
      },
      "source": [
        ""
      ],
      "execution_count": null,
      "outputs": []
    },
    {
      "cell_type": "code",
      "metadata": {
        "id": "7frJWouPm-8e"
      },
      "source": [
        ""
      ],
      "execution_count": null,
      "outputs": []
    },
    {
      "cell_type": "code",
      "metadata": {
        "id": "_m8OTfEln_Qn"
      },
      "source": [
        ""
      ],
      "execution_count": null,
      "outputs": []
    },
    {
      "cell_type": "markdown",
      "metadata": {
        "id": "iE7vQvAqSLQJ"
      },
      "source": [
        "### 데이터타입 변경하기\n",
        "변경하려는 데이터타입으로 감싸주기\n",
        "\n",
        "\n",
        "```\n",
        "# 정수로 변경하기\n",
        "int(변수)\n",
        "\n",
        "# 실수로 변경하기\n",
        "float(변수)\n",
        "\n",
        "# 문자로 변경하기\n",
        "str(변수)\n",
        "```\n",
        "\n"
      ]
    },
    {
      "cell_type": "code",
      "metadata": {
        "id": "m0Q-OfX8oAfP"
      },
      "source": [
        "# 정수를 실수로 \n"
      ],
      "execution_count": null,
      "outputs": []
    },
    {
      "cell_type": "code",
      "metadata": {
        "id": "JMm4V8_RpJgf"
      },
      "source": [
        "# 실수를 정수로\n"
      ],
      "execution_count": null,
      "outputs": []
    },
    {
      "cell_type": "code",
      "metadata": {
        "id": "IUISAoE68CF9"
      },
      "source": [
        "# 문자를 숫자로\r\n"
      ],
      "execution_count": null,
      "outputs": []
    },
    {
      "cell_type": "markdown",
      "metadata": {
        "id": "6n9IjADZt4Z5"
      },
      "source": [
        "#  5. 리스트\n",
        "\n",
        "```\n",
        "리스트 여러 데이터를 한 번에 묶어서 표현\n",
        "리스트이름 = [데이터1, 데이터2, ..., 데이터n]\n",
        "```\n",
        "\n",
        "> 실생활의 리스트 \n",
        "    \n",
        "<img src='https://github.com/Ahnjihye/allinone_AI/blob/images/56_%EC%82%AC%EC%95%BC%ED%95%A0%20%EB%A6%AC%EC%8A%A4%ED%8A%B8.png?raw=true' width=150>\n",
        "\n",
        "</br>\n",
        "</br>\n",
        "\n",
        "> 파이썬의 리스트\n",
        "\n",
        "<img src='https://github.com/Ahnjihye/allinone_AI/blob/images/6_%EB%A6%AC%EC%8A%A4%ED%8A%B8%EA%B0%9C%EB%85%90.png?raw=true' width=600>\n",
        "\n",
        "\n",
        "\n"
      ]
    },
    {
      "cell_type": "code",
      "metadata": {
        "id": "FAe8AhxFMRWQ"
      },
      "source": [
        "# 1월 지출부터 6월 지출까지 리스트로 만들기\n"
      ],
      "execution_count": null,
      "outputs": []
    },
    {
      "cell_type": "code",
      "metadata": {
        "id": "AfL3S1RbMRZb"
      },
      "source": [
        ""
      ],
      "execution_count": null,
      "outputs": []
    },
    {
      "cell_type": "code",
      "metadata": {
        "id": "pletqKwvMRcq"
      },
      "source": [
        ""
      ],
      "execution_count": null,
      "outputs": []
    },
    {
      "cell_type": "markdown",
      "metadata": {
        "id": "TKe3-L5lNYYN"
      },
      "source": [
        "### 리스트와 인덱스\n",
        "<img src ='https://github.com/Ahnjihye/allinone_AI/blob/images/7_%EB%A6%AC%EC%8A%A4%ED%8A%B8%EC%9D%B8%EB%8D%B1%EC%8A%A4.png?raw=true' width =700>"
      ]
    },
    {
      "cell_type": "code",
      "metadata": {
        "id": "l97FX7QOMlYm"
      },
      "source": [
        "# 1월 지출은?\n"
      ],
      "execution_count": null,
      "outputs": []
    },
    {
      "cell_type": "code",
      "metadata": {
        "id": "XQJ_ouroMlaz"
      },
      "source": [
        "# 6월 지출은?\n"
      ],
      "execution_count": null,
      "outputs": []
    },
    {
      "cell_type": "code",
      "metadata": {
        "id": "70ooJdGDMlh4"
      },
      "source": [
        "# 3월 지출은?\n"
      ],
      "execution_count": null,
      "outputs": []
    },
    {
      "cell_type": "markdown",
      "metadata": {
        "id": "Er1EdCA3jfx3"
      },
      "source": [
        "알고보니 4월 지출이 10낮게 기록됐다. 4월 지출에 10을 더하시오"
      ]
    },
    {
      "cell_type": "code",
      "metadata": {
        "id": "tLt7P-A2Mlkq"
      },
      "source": [
        "\n"
      ],
      "execution_count": null,
      "outputs": []
    },
    {
      "cell_type": "markdown",
      "metadata": {
        "id": "BZTdPe8Bjk_p"
      },
      "source": [
        "5월 지출을 2로 나누시오"
      ]
    },
    {
      "cell_type": "code",
      "metadata": {
        "id": "UGAtSnXaNpy6"
      },
      "source": [
        "\n"
      ],
      "execution_count": null,
      "outputs": []
    },
    {
      "cell_type": "markdown",
      "metadata": {
        "id": "6GNtA_6rE1lY"
      },
      "source": [
        "### 마이너스 인덱스\n",
        "\n",
        "<img src = 'https://github.com/Ahnjihye/allinone_AI/blob/images/8_%EB%A6%AC%EC%8A%A4%ED%8A%B8%20%EB%A7%88%EC%9D%B4%EB%84%88%EC%8A%A4%EC%9D%B8%EB%8D%B1%EC%8A%A4.png?raw=true' width=500>"
      ]
    },
    {
      "cell_type": "code",
      "metadata": {
        "id": "VYSsCWAuMlVF"
      },
      "source": [
        "\n"
      ],
      "execution_count": null,
      "outputs": []
    },
    {
      "cell_type": "code",
      "metadata": {
        "id": "0Q691rtv9-bt"
      },
      "source": [
        "\n"
      ],
      "execution_count": null,
      "outputs": []
    },
    {
      "cell_type": "markdown",
      "metadata": {
        "id": "mcMUi8x-OEod"
      },
      "source": [
        "#  7.  리스트의 다양한 기능\n",
        "\n",
        "```\n",
        "len(리스트이름)            # 리스트 길이 확인\n",
        "```\n",
        "\n"
      ]
    },
    {
      "cell_type": "code",
      "metadata": {
        "id": "PVBaOrEONp4H"
      },
      "source": [
        ""
      ],
      "execution_count": null,
      "outputs": []
    },
    {
      "cell_type": "markdown",
      "metadata": {
        "id": "E_Y7AFD0TFIB"
      },
      "source": [
        "### 리스트에 데이터 추가하기\n",
        "\n",
        "```\n",
        "리스트이름.append(데이터)    # 리스트에 데이터 추가\n",
        "```\n",
        "\n"
      ]
    },
    {
      "cell_type": "code",
      "metadata": {
        "id": "055BmrT1-lgL"
      },
      "source": [
        "# 좋아하는 과일 순서대로 리스트에 추가해보기\n"
      ],
      "execution_count": null,
      "outputs": []
    },
    {
      "cell_type": "code",
      "metadata": {
        "id": "PYw7ooYGNp65"
      },
      "source": [
        "# 딸기 추가\n"
      ],
      "execution_count": null,
      "outputs": []
    },
    {
      "cell_type": "code",
      "metadata": {
        "id": "I7i_vU_D-rGP"
      },
      "source": [
        "# 한라봉 추가\n"
      ],
      "execution_count": null,
      "outputs": []
    },
    {
      "cell_type": "code",
      "metadata": {
        "id": "gLSY5DZkAY3m"
      },
      "source": [
        "# 바나나 추가\n"
      ],
      "execution_count": null,
      "outputs": []
    },
    {
      "cell_type": "markdown",
      "metadata": {
        "id": "gTwIhK76jycp"
      },
      "source": [
        " 리스트 fruit에 참외를 추가한후, 본인이 좋아하는 과일 하나 더 추가해보기"
      ]
    },
    {
      "cell_type": "code",
      "metadata": {
        "id": "EakP6OrBOry4"
      },
      "source": [
        "# 참외 추가해보기\n"
      ],
      "execution_count": null,
      "outputs": []
    },
    {
      "cell_type": "markdown",
      "metadata": {
        "id": "VcinMKvjPO_n"
      },
      "source": [
        "### 리스트 슬라이싱\n",
        "\n",
        "<img src = 'https://github.com/Ahnjihye/allinone_AI/blob/images/9_%EB%A6%AC%EC%8A%A4%ED%8A%B8%EC%8A%AC%EB%9D%BC%EC%9D%B4%EC%8B%B1.png?raw=true' width=500>\n",
        "\n",
        "\n",
        "```\n",
        "리스트[시작숫자 : 종료숫자]\n",
        "```\n",
        "종료숫자까지 잘라내는 것 XXX\n",
        "종료숫자에서 탈출하는 것 OOO\n",
        "\n",
        "\n",
        "\n",
        "```\n",
        "abc[2:5]       # abc[2]~abc[4]까지 슬라이싱하고 abc[5]가 되면 탈출함\n",
        "abc[4:9]       # abc[4]~abc[9]까지 슬라이싱하고 abc[9]가 되면 탈출함\n",
        "```\n",
        "\n",
        "\n",
        "\n"
      ]
    },
    {
      "cell_type": "code",
      "metadata": {
        "id": "skKBPcWnO31V"
      },
      "source": [
        ""
      ],
      "execution_count": null,
      "outputs": []
    },
    {
      "cell_type": "code",
      "metadata": {
        "id": "5T90E9u2PzQl"
      },
      "source": [
        "# 바나나, 참외만 골라내기\n"
      ],
      "execution_count": null,
      "outputs": []
    },
    {
      "cell_type": "code",
      "metadata": {
        "id": "u8_ZjYbVPzXv"
      },
      "source": [
        "# 처음부터 [n]까지 골라내기\n"
      ],
      "execution_count": null,
      "outputs": []
    },
    {
      "cell_type": "code",
      "metadata": {
        "id": "DGT1u07APzWH"
      },
      "source": [
        "# 뒤에서 n개 데이터 슬라이싱\n"
      ],
      "execution_count": null,
      "outputs": []
    },
    {
      "cell_type": "markdown",
      "metadata": {
        "id": "2GzeP7MRQ1BC"
      },
      "source": [
        "### 문자열 슬라이싱"
      ]
    },
    {
      "cell_type": "code",
      "metadata": {
        "id": "trbsdMEzQ38P"
      },
      "source": [
        ""
      ],
      "execution_count": null,
      "outputs": []
    },
    {
      "cell_type": "code",
      "metadata": {
        "id": "uJp-ceSnQ3_b"
      },
      "source": [
        ""
      ],
      "execution_count": null,
      "outputs": []
    },
    {
      "cell_type": "code",
      "metadata": {
        "id": "cUQ_6ORgQ4BE"
      },
      "source": [
        ""
      ],
      "execution_count": null,
      "outputs": []
    },
    {
      "cell_type": "code",
      "metadata": {
        "id": "y1Wh1NQqDTc2"
      },
      "source": [
        ""
      ],
      "execution_count": null,
      "outputs": []
    },
    {
      "cell_type": "markdown",
      "metadata": {
        "id": "ci8lL5bpkDqH"
      },
      "source": [
        "위 date에서 월(month)만 골라내 숫자형태로 변수 mon에 저장하시오."
      ]
    },
    {
      "cell_type": "code",
      "metadata": {
        "id": "oi4InWd-R5hK"
      },
      "source": [
        "# 월만 골라내기\n"
      ],
      "execution_count": null,
      "outputs": []
    },
    {
      "cell_type": "markdown",
      "metadata": {
        "id": "1SNURQRPkLjp"
      },
      "source": [
        "위 date에서 일(day)만 숫자 형태로 골라내 변수에 저장하시오."
      ]
    },
    {
      "cell_type": "code",
      "metadata": {
        "id": "EV6_JAjDR5lz"
      },
      "source": [
        "# 일만 골라내기\n"
      ],
      "execution_count": null,
      "outputs": []
    },
    {
      "cell_type": "markdown",
      "metadata": {
        "id": "IgU4y4cdCo3v"
      },
      "source": [
        "# 7. 선택구조 \n",
        "\n",
        "지금까지의 명령어는 항상 실행되는 명령어 \n",
        "</br>\n",
        "\n",
        "조건을 충족할 때만 실행되거나/ 실행되지 않는 명령어\n",
        "</br>\n",
        "</br>\n",
        "**선택구조 : 조건을 충족할 때에만 선택적으로 실행되는 명령어**\n",
        "</br>\n",
        "</br>\n",
        "<img src='https://github.com/Ahnjihye/allinone_AI/blob/images/10_%EC%84%A0%ED%83%9D%EA%B5%AC%EC%A1%B0%20%EC%98%88%EC%8B%9C%20png.png?raw=true' width=500>\n",
        "</br>\n",
        "</br>\n",
        "<img src = 'https://github.com/Ahnjihye/allinone_AI/blob/images/10_%EC%84%A0%ED%83%9D%EA%B5%AC%EC%A1%B0.png?raw=true' width=500>\n",
        "\n"
      ]
    },
    {
      "cell_type": "code",
      "metadata": {
        "id": "MkpSM5DyCp78"
      },
      "source": [
        "# 만약 미성년자라면 술을 구매할 수 없다고 출력\n",
        "\n"
      ],
      "execution_count": null,
      "outputs": []
    },
    {
      "cell_type": "markdown",
      "metadata": {
        "id": "iIllPy22YGxI"
      },
      "source": [
        "> 조건문에서는 들여쓰기를 조심하세요!\n",
        "</br>\n",
        "<img src ='https://github.com/Ahnjihye/allinone_AI/blob/images/10_%EC%84%A0%ED%83%9D%EA%B5%AC%EC%A1%B0%20%EB%93%A4%EC%97%AC%EC%93%B0%EA%B8%B0%20png.png?raw=true' width=200>"
      ]
    },
    {
      "cell_type": "markdown",
      "metadata": {
        "id": "A5d31d8QYY3s"
      },
      "source": [
        "### 조건을 만드는 비교연산자\n",
        "\n",
        "a와 b가 같다면\n",
        "> if a == b :      \n",
        "\n",
        "</br>\n",
        "\n",
        "a와 b가 같지 않다면\n",
        "\n",
        "> if a != b :   \n",
        "\n",
        "</br>\n",
        "\n",
        "\n",
        "a가 b보다 크다면\n",
        "> if a > b :     \n",
        "\n",
        "a가 b보다 크거나 같다면 \n",
        "> if a >= b :      \n",
        "\n",
        "a가 b보다 작다면\n",
        "> if a < b :        \n",
        "\n",
        "a가 b보다 작거나 같다면\n",
        "> if a <= b :      \n"
      ]
    },
    {
      "cell_type": "markdown",
      "metadata": {
        "id": "pC042qGEkl4T"
      },
      "source": [
        "출석 혹은 결석 둘 중 하나를 입력받고, 출석을 입력받았을 경우 O를 출력하기"
      ]
    },
    {
      "cell_type": "code",
      "metadata": {
        "id": "MkSuyWQ5eFKC"
      },
      "source": [
        "# 자동 출석 시스템 \n"
      ],
      "execution_count": null,
      "outputs": []
    },
    {
      "cell_type": "markdown",
      "metadata": {
        "id": "NyCBjh41EVVn"
      },
      "source": [
        "### 조건을 충족하지 않을 때 if-else \n",
        "\n",
        "\n",
        "<img src = 'https://github.com/Ahnjihye/allinone_AI/blob/images/11_%EC%84%A0%ED%83%9D%EA%B5%AC%EC%A1%B02%20-%20%EC%98%88%EC%8B%9C.png?raw=true' width = 300>\n",
        "<img src = 'https://github.com/Ahnjihye/allinone_AI/blob/images/11_%EC%84%A0%ED%83%9D%EA%B5%AC%EC%A1%B02.png?raw=true' width=400>"
      ]
    },
    {
      "cell_type": "markdown",
      "metadata": {
        "id": "kLlhbmxaU5Br"
      },
      "source": [
        "자동 출석 시스템 \n",
        "```\n",
        "출석 혹은 결석을 입력받아 출석이면 O을 출력, 결석이면 X를 출력하기\n",
        "입력안내문 : 출석 혹은 결석을 입력하세요\n",
        "```\n",
        "\n"
      ]
    },
    {
      "cell_type": "code",
      "metadata": {
        "id": "7TAwKdmcTpUu"
      },
      "source": [
        "# 자동 출석 시스템 \n"
      ],
      "execution_count": null,
      "outputs": []
    },
    {
      "cell_type": "markdown",
      "metadata": {
        "id": "VuUrPhU8FrLC"
      },
      "source": [
        "무료배송 \r\n",
        "\r\n",
        "\r\n",
        "```\r\n",
        "총 상품금액을 입력받아, 3만원 미만이면 배송비 2500원을 추가해 총 결제금액을 출력하고, '배송비 2500원이 같이 결제됩니다'를 출력\r\n",
        "3만원 이상일 때는 결제금액과 '무료배송됩니다!'를 출력\r\n",
        "```\r\n",
        "\r\n"
      ]
    },
    {
      "cell_type": "code",
      "metadata": {
        "id": "fZ3To2PXFlt_"
      },
      "source": [
        "# 무료배송 \r\n",
        "\r\n"
      ],
      "execution_count": null,
      "outputs": []
    },
    {
      "cell_type": "markdown",
      "metadata": {
        "id": "UCdFsLZvKa_C"
      },
      "source": [
        "# 8. 반복문\n",
        "<img src = 'https://github.com/Ahnjihye/allinone_AI/blob/images/4_%EB%B0%98%EB%B3%B5%EB%AC%B8.png?raw=true' width=500>\n",
        "\n"
      ]
    },
    {
      "cell_type": "code",
      "metadata": {
        "id": "IQtiqCfit48u"
      },
      "source": [
        ""
      ],
      "execution_count": null,
      "outputs": []
    },
    {
      "cell_type": "markdown",
      "metadata": {
        "id": "oEfcTfzDFlqS"
      },
      "source": [
        "<img src ='https://github.com/Ahnjihye/allinone_AI/blob/images/5_%EB%B0%98%EB%B3%B5%EB%AC%B8%20%EB%8F%99%EC%9E%91%EA%B5%AC%EC%A1%B0.png?raw=true' width=500>"
      ]
    },
    {
      "cell_type": "markdown",
      "metadata": {
        "id": "FAq15VaRk9Ai"
      },
      "source": [
        "다음 spend의 모든 원소를 차례대로 출력하시오 \n",
        "\n",
        "\n",
        "```\n",
        "spend = [43, 12, 65, 67, 23, 12]\n",
        "```\n",
        "\n"
      ]
    },
    {
      "cell_type": "code",
      "metadata": {
        "id": "F2EVpvIMt4_R"
      },
      "source": [
        "\n"
      ],
      "execution_count": null,
      "outputs": []
    },
    {
      "cell_type": "markdown",
      "metadata": {
        "id": "G-bRbKPmU47N"
      },
      "source": [
        "### 리스트와 반복문, 조건문"
      ]
    },
    {
      "cell_type": "code",
      "metadata": {
        "id": "w8oyLMGlpklS"
      },
      "source": [
        "# 50이상 쓴 금액을 출력하시오\n",
        "\n"
      ],
      "execution_count": null,
      "outputs": []
    },
    {
      "cell_type": "markdown",
      "metadata": {
        "id": "qRSeABPrINGK"
      },
      "source": [
        "### range(시작숫자, 종료숫자)\r\n",
        "\r\n",
        "연속된 숫자를 표현하는 range()"
      ]
    },
    {
      "cell_type": "code",
      "metadata": {
        "id": "XP9lM2GHt5B0"
      },
      "source": [
        "# 인덱스를 활용하고 싶을 때 range()\n",
        "\n"
      ],
      "execution_count": null,
      "outputs": []
    },
    {
      "cell_type": "code",
      "metadata": {
        "id": "draOPFNGIkAr"
      },
      "source": [
        "# 인덱스는 0부터 시작\r\n",
        "\r\n"
      ],
      "execution_count": null,
      "outputs": []
    },
    {
      "cell_type": "code",
      "metadata": {
        "id": "dx99LE7Xt5EO"
      },
      "source": [
        "# len() 활용하기\n",
        "\n"
      ],
      "execution_count": null,
      "outputs": []
    },
    {
      "cell_type": "code",
      "metadata": {
        "id": "YBNqt2c-t5Gk"
      },
      "source": [
        "# range()가 0부터 시작하면 생략 가능\n",
        "\n"
      ],
      "execution_count": null,
      "outputs": []
    },
    {
      "cell_type": "markdown",
      "metadata": {
        "id": "yKBftUkFI4u2"
      },
      "source": [
        "spend에서 50이상 쓴 달을 출력하시오, 단 range를 사용하시오"
      ]
    },
    {
      "cell_type": "code",
      "metadata": {
        "id": "cxMjVzt0Ie79"
      },
      "source": [
        "# 50이상 쓴 달을 출력하시오\n",
        "\n"
      ],
      "execution_count": null,
      "outputs": []
    },
    {
      "cell_type": "markdown",
      "metadata": {
        "id": "Mliij-AiZr4_"
      },
      "source": [
        "# 9. 이차원 리스트\n",
        "\n",
        "<img src ='https://github.com/Ahnjihye/allinone_AI/blob/images/14_%EC%9D%B4%EC%B0%A8%EC%9B%90%20%EB%A6%AC%EC%8A%A4%ED%8A%B8.png?raw=true' width = 700>"
      ]
    },
    {
      "cell_type": "code",
      "metadata": {
        "id": "4acOxb9Dul8O"
      },
      "source": [
        "\n"
      ],
      "execution_count": null,
      "outputs": []
    },
    {
      "cell_type": "code",
      "metadata": {
        "id": "BQ0u3IM-yUd_"
      },
      "source": [
        ""
      ],
      "execution_count": null,
      "outputs": []
    },
    {
      "cell_type": "code",
      "metadata": {
        "id": "gyt8s3mtpiTF"
      },
      "source": [
        ""
      ],
      "execution_count": null,
      "outputs": []
    },
    {
      "cell_type": "code",
      "metadata": {
        "id": "smaYOq_bpiY8"
      },
      "source": [
        ""
      ],
      "execution_count": null,
      "outputs": []
    },
    {
      "cell_type": "markdown",
      "metadata": {
        "id": "IROs-Ha0yUj2"
      },
      "source": [
        "## 이차원 리스트의 인덱스\n",
        "\n",
        "<img src = 'https://github.com/Ahnjihye/allinone_AI/blob/images/15_%EC%9D%B4%EC%B0%A8%EC%9B%90%20%EB%A6%AC%EC%8A%A4%ED%8A%B8%20%EC%9D%B8%EB%8D%B1%EC%8A%A4.png?raw=true' width = 700>"
      ]
    },
    {
      "cell_type": "code",
      "metadata": {
        "id": "1U_e8JPXul-I"
      },
      "source": [
        "# 1 출력하기\n"
      ],
      "execution_count": null,
      "outputs": []
    },
    {
      "cell_type": "markdown",
      "metadata": {
        "id": "-bcfTuieldf0"
      },
      "source": [
        "이차원 리스트 abd에서 인덱스를 활용해 다음 숫자를 출력하시오"
      ]
    },
    {
      "cell_type": "code",
      "metadata": {
        "id": "lhEJ64vTumAI"
      },
      "source": [
        "# 6 출력하기\n"
      ],
      "execution_count": null,
      "outputs": []
    },
    {
      "cell_type": "code",
      "metadata": {
        "id": "8dolImUrumCS"
      },
      "source": [
        "# 8 출력하기\n"
      ],
      "execution_count": null,
      "outputs": []
    },
    {
      "cell_type": "markdown",
      "metadata": {
        "id": "2YUUytTsftU5"
      },
      "source": [
        "## 반복문과 이차원 리스트"
      ]
    },
    {
      "cell_type": "code",
      "metadata": {
        "id": "vIwkSkIuyYwV"
      },
      "source": [
        ""
      ],
      "execution_count": null,
      "outputs": []
    },
    {
      "cell_type": "markdown",
      "metadata": {
        "id": "-bbMjsKVyY4B"
      },
      "source": [
        "> 이차원리스트 반복 원리\n",
        "\n",
        "<img src = 'https://github.com/Ahnjihye/allinone_AI/blob/images/16_%EC%9D%B4%EC%B0%A8%EC%9B%90%20%EB%A6%AC%EC%8A%A4%ED%8A%B8%20%EB%B0%98%EB%B3%B5%EA%B5%AC%EC%A1%B0.png?raw=true' width=800>"
      ]
    },
    {
      "cell_type": "code",
      "metadata": {
        "id": "t4LqJgCdyh03"
      },
      "source": [
        "# 모든 줄의 첫번째 데이터만 출력\n"
      ],
      "execution_count": null,
      "outputs": []
    },
    {
      "cell_type": "code",
      "metadata": {
        "id": "N3J7nAOrrTWs"
      },
      "source": [
        "# 모든 줄의 마지막 데이터(세번째 열)만 출력\n"
      ],
      "execution_count": null,
      "outputs": []
    },
    {
      "cell_type": "code",
      "metadata": {
        "id": "P_jKYPScez91"
      },
      "source": [
        ""
      ],
      "execution_count": null,
      "outputs": []
    }
  ]
}